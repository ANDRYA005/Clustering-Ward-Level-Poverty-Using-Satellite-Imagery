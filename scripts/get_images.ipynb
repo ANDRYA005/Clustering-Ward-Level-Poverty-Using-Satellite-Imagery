{
 "cells": [
  {
   "cell_type": "markdown",
   "metadata": {},
   "source": [
    "# Overview of Methods\n",
    "\n",
    "For each ward:\n",
    "\n",
    "1. Read in the centers for each image.\n",
    "2. Adjust the centers down.\n",
    "3. Extract two images of size 400x425 from each adjusted center. One plain image and one with ward ovelayed in pure black.\n",
    "4. Write each image to the directory /images/ward_k/ij_with_ward.png where k is the ward number and ij are the row and column positions, respectively, of the image in the grid of images from the specific ward (e.g. top left = 00).\n",
    "5. Use the image with the ward overlayed to isolate the pixels that are outside of the ward. Set those pixels to black in the image without the ward in order to isolate the section of the image that contains the ward.\n",
    "6. Remove the Google watermarks (i.e. bottom 25 pixels).\n",
    "7. Write the edited image to the directory /images/ward_k/edited/ij.png"
   ]
  },
  {
   "cell_type": "markdown",
   "metadata": {},
   "source": [
    "# Libraries Used"
   ]
  },
  {
   "cell_type": "code",
   "execution_count": 3,
   "metadata": {},
   "outputs": [],
   "source": [
    "import cv2\n",
    "import matplotlib.pyplot as plt\n",
    "import numpy as np\n",
    "import json\n",
    "import requests\n",
    "import pandas as pd\n",
    "import os\n",
    "import ast"
   ]
  },
  {
   "cell_type": "markdown",
   "metadata": {},
   "source": [
    "# Constants"
   ]
  },
  {
   "cell_type": "markdown",
   "metadata": {},
   "source": [
    "### Conversion of lat/lng to pixels\n",
    "\n",
    "In order to sample without overlap from the grid of images within the ward, we need to obtain the length of the sampled images in the y- and the x-direction."
   ]
  },
  {
   "cell_type": "code",
   "execution_count": 4,
   "metadata": {},
   "outputs": [],
   "source": [
    "## Radius of squares in grid, figured out by mixture of observation and calculation\n",
    "Y_RAD = 0.00385\n",
    "X_RAD = 0.0043\n",
    "N_WARDS = 130"
   ]
  },
  {
   "cell_type": "markdown",
   "metadata": {},
   "source": [
    "### Adjustment to crop out watermarks\n",
    "\n",
    "Although we need images of dimension 400x400, we are sampling images of size 400x425 (more pixels in the y-direction) and cropping the bottom 25px in order to remove the Google watermarks - resulting in a 400x400 image. However, to do this, we need to shift the center of our sampled images slighly lower, as we are removing pixels from only the bottom of the image, even though there are $\\approx 12.5$ pixels at the top of the image that are also being added. Thus, we need to shift the center down \"12.5 pixels\". Converting this to lat/lng values, we get that:\n",
    "$200$px $\\approx 0.00385^{\\circ}$. So it follows that $12.5$px $\\approx 0.00385^{\\circ}/16$"
   ]
  },
  {
   "cell_type": "markdown",
   "metadata": {},
   "source": [
    "<img src=\"../images_for_demo/Grid_img_without_adjustment.PNG\" width=\"300\">\n",
    "<img src=\"../images_for_demo/Grid_img_with_adjustment.PNG\" width=\"300\">"
   ]
  },
  {
   "cell_type": "code",
   "execution_count": 5,
   "metadata": {},
   "outputs": [],
   "source": [
    "DELTA_Y = Y_RAD/16  # adjustment to crop out watermarks"
   ]
  },
  {
   "cell_type": "code",
   "execution_count": 6,
   "metadata": {},
   "outputs": [],
   "source": [
    "# get the Google Static Maps API key\n",
    "with open(\"../google_api_key.txt\", \"r\") as file:\n",
    "    KEY = file.readline()"
   ]
  },
  {
   "cell_type": "markdown",
   "metadata": {},
   "source": [
    "# Extract Images for each Ward"
   ]
  },
  {
   "cell_type": "code",
   "execution_count": 14,
   "metadata": {},
   "outputs": [
    {
     "name": "stdout",
     "output_type": "stream",
     "text": [
      "ward_no.        int64\n",
      "img_centers    object\n",
      "dtype: object\n"
     ]
    },
    {
     "data": {
      "text/html": [
       "<div>\n",
       "<style scoped>\n",
       "    .dataframe tbody tr th:only-of-type {\n",
       "        vertical-align: middle;\n",
       "    }\n",
       "\n",
       "    .dataframe tbody tr th {\n",
       "        vertical-align: top;\n",
       "    }\n",
       "\n",
       "    .dataframe thead th {\n",
       "        text-align: right;\n",
       "    }\n",
       "</style>\n",
       "<table border=\"1\" class=\"dataframe\">\n",
       "  <thead>\n",
       "    <tr style=\"text-align: right;\">\n",
       "      <th></th>\n",
       "      <th>ward_no.</th>\n",
       "      <th>img_centers</th>\n",
       "    </tr>\n",
       "  </thead>\n",
       "  <tbody>\n",
       "    <tr>\n",
       "      <th>0</th>\n",
       "      <td>1</td>\n",
       "      <td>[[(-26.483020238999927, 27.828767997000057), (...</td>\n",
       "    </tr>\n",
       "    <tr>\n",
       "      <th>1</th>\n",
       "      <td>2</td>\n",
       "      <td>[[(-26.496054001999937, 27.86212946200004), (-...</td>\n",
       "    </tr>\n",
       "    <tr>\n",
       "      <th>2</th>\n",
       "      <td>3</td>\n",
       "      <td>[[(-26.47171999699998, 27.854994917000056), (-...</td>\n",
       "    </tr>\n",
       "    <tr>\n",
       "      <th>3</th>\n",
       "      <td>4</td>\n",
       "      <td>[[(-26.448481038999944, 27.84236260700004), (-...</td>\n",
       "    </tr>\n",
       "    <tr>\n",
       "      <th>4</th>\n",
       "      <td>5</td>\n",
       "      <td>[[(-26.424091998999927, 27.763540001000024), (...</td>\n",
       "    </tr>\n",
       "  </tbody>\n",
       "</table>\n",
       "</div>"
      ],
      "text/plain": [
       "   ward_no.                                        img_centers\n",
       "0         1  [[(-26.483020238999927, 27.828767997000057), (...\n",
       "1         2  [[(-26.496054001999937, 27.86212946200004), (-...\n",
       "2         3  [[(-26.47171999699998, 27.854994917000056), (-...\n",
       "3         4  [[(-26.448481038999944, 27.84236260700004), (-...\n",
       "4         5  [[(-26.424091998999927, 27.763540001000024), (..."
      ]
     },
     "execution_count": 14,
     "metadata": {},
     "output_type": "execute_result"
    }
   ],
   "source": [
    "# read in ward image centers\n",
    "df_ward_centers = pd.read_csv(\"../data/ward_image_centers.csv\") \n",
    "print(df_ward_centers.dtypes)\n",
    "df_ward_centers.head()"
   ]
  },
  {
   "cell_type": "code",
   "execution_count": 33,
   "metadata": {},
   "outputs": [],
   "source": [
    "def download_img(center_str, path):\n",
    "    request = \"https://maps.googleapis.com/maps/api/staticmap?center=\" + center_str + \"&zoom=16&size=400x425&maptype=satellite&format=png&path=fillcolor:0x000000FF|color:0x000000FF|weight:1\" + path + \"&key=\" + KEY\n",
    "    # HTTP requests\n",
    "    return(requests.get(request))"
   ]
  },
  {
   "cell_type": "code",
   "execution_count": 34,
   "metadata": {},
   "outputs": [],
   "source": [
    "def get_imgs(center_str, ward_num, pos, path):\n",
    "    \n",
    "    # extrecting two images for each center\n",
    "    response_with_ward = download_img(center_str, path)     # image with ward overlayed in black\n",
    "    response_no_ward = download_img(center_str, \"\")         # plain image\n",
    "    \n",
    "    if not os.path.exists('../images/ward_' + str(ward_num)):\n",
    "        os.makedirs('../images/ward_' + str(ward_num))\n",
    "    \n",
    "    # storing the responses in a file (images)\n",
    "    with open('../images/ward_' + str(ward_num) + \"/\" + str(pos[0]) + str(pos[1]) + \"_with_ward\" +'.png', 'wb') as file:\n",
    "       # writing data into the file\n",
    "       file.write(response_with_ward.content)\n",
    "\n",
    "    with open('../images/ward_' + str(ward_num) + \"/\" + str(pos[0]) + str(pos[1]) +'.png', 'wb') as file:\n",
    "       # writing data into the file\n",
    "       file.write(response_no_ward.content)"
   ]
  },
  {
   "cell_type": "code",
   "execution_count": 90,
   "metadata": {},
   "outputs": [],
   "source": [
    "# function for converting coordinates to format for Google Static Maps API\n",
    "def center_to_string(center):\n",
    "    return str(center[0]) + \",\" + str(center[1])"
   ]
  },
  {
   "cell_type": "code",
   "execution_count": 27,
   "metadata": {},
   "outputs": [],
   "source": [
    "# Dowload images from Google Static Maps API for each ward\n",
    "# Saved in file ./images/ward_i\n",
    "# Two imgs from same location: \n",
    "## (row,col).png - plain img\n",
    "## (row,col)_with_ward.png - img with ward overlayed\n",
    "# (row,col) are matrix coordinates\n",
    "# use ast.literal_eval: '[1,2]' -> [1,2]\n",
    "\n",
    "ward_num = 1    # could use apply or map here\n",
    "for i, cols in enumerate(ast.literal_eval(df_ward_centers[\"img_centers\"][ward_num-1])):\n",
    "    coords = get_ward_shape(shape_file_dict, ward_num-1)\n",
    "    path = coords_to_path(coords)\n",
    "    for j, row_center in enumerate(cols):\n",
    "        center_shifted = (row_center[0] - DELTA_Y, row_center[1])              # shifting the center down by DELTA_Y\n",
    "#         get_imgs(center_to_string(center_shifted), ward_num, (i,j), path)    # uncomment to download images\n",
    "    "
   ]
  },
  {
   "cell_type": "markdown",
   "metadata": {},
   "source": [
    "# Edit Plain Images to only Contain Ward Area and Save"
   ]
  },
  {
   "cell_type": "code",
   "execution_count": 96,
   "metadata": {},
   "outputs": [],
   "source": [
    "# For saving the edited image to ./images/ward_i/edited\n",
    "def save_edited_img(ward_num, f_no_ward, img):\n",
    "    # create directory if it doesn't exist\n",
    "    if not os.path.exists('../images/ward_' + str(ward_num) + '/edited'):\n",
    "        os.makedirs('../images/ward_' + str(ward_num)+ '/edited')\n",
    "    \n",
    "    # writing the image to directory\n",
    "    cv2.imwrite('../images/ward_' + str(ward_num)+ '/edited/' + f_no_ward, img)"
   ]
  },
  {
   "cell_type": "code",
   "execution_count": 99,
   "metadata": {},
   "outputs": [],
   "source": [
    "# For setting the area of the img outside of the ward to black\n",
    "# Edited image saved to ./images/ward_i/edited\n",
    "def isolate_ward_in_img(ward_num, f_with_ward, f_no_ward):\n",
    "    img_with_ward = cv2.imread('../images/ward_' + str(ward_num) + '/' + f_with_ward)\n",
    "    img_no_ward = cv2.imread('../images/ward_' + str(ward_num)+ '/' + f_no_ward)\n",
    "    \n",
    "    img_with_ward_cropped = img_with_ward[0:400,:,:]      # cropping out the watermarks\n",
    "    img_no_ward_cropped = img_no_ward[0:400,:,:]          # cropping out the watermarks\n",
    "    \n",
    "    # selecting all non-black pixels from image with ward overlayed (want to remove these from plain image)\n",
    "    pix_out_ward = np.where(np.all(img_with_ward_cropped != [0,0,0], axis=-1))\n",
    "    \n",
    "    # setting all non-black pixels from image without ward overlayed to black in plain image\n",
    "    img_no_ward_cropped[pix_out_ward] = [0,0,0]\n",
    "    return img_no_ward_cropped"
   ]
  },
  {
   "cell_type": "code",
   "execution_count": 100,
   "metadata": {},
   "outputs": [],
   "source": [
    "# looping through the directories for each ward and editing the images then saving\n",
    "\n",
    "ward_num = 1\n",
    "directory = os.fsencode(\"../images/ward_\" + str(ward_num))\n",
    "i = 0\n",
    "f_with_ward = f_no_ward = ''\n",
    "for file in os.listdir(directory):\n",
    "    filename = os.fsdecode(file)\n",
    "    if filename.endswith(\".png\"):\n",
    "        if i % 2 == 0:\n",
    "            f_no_ward = filename\n",
    "        else:\n",
    "            f_with_ward = filename\n",
    "            img_no_ward_cropped = isolate_ward_in_img(ward_num, f_with_ward, f_no_ward)\n",
    "            save_edited_img(ward_num, f_no_ward, img_no_ward_cropped)\n",
    "        i += 1"
   ]
  },
  {
   "cell_type": "code",
   "execution_count": 8,
   "metadata": {},
   "outputs": [],
   "source": [
    "def plot_fig(img):\n",
    "    img_matplot = cv2.cvtColor(img, cv2.COLOR_BGR2RGB)\n",
    "    plt.figure(figsize=(5,5))\n",
    "    plt.imshow(img_matplot)"
   ]
  }
 ],
 "metadata": {
  "kernelspec": {
   "display_name": "Python 3",
   "language": "python",
   "name": "python3"
  },
  "language_info": {
   "codemirror_mode": {
    "name": "ipython",
    "version": 3
   },
   "file_extension": ".py",
   "mimetype": "text/x-python",
   "name": "python",
   "nbconvert_exporter": "python",
   "pygments_lexer": "ipython3",
   "version": "3.8.3"
  }
 },
 "nbformat": 4,
 "nbformat_minor": 4
}
