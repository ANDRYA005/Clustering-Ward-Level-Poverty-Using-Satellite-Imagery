{
 "cells": [
  {
   "cell_type": "markdown",
   "metadata": {},
   "source": [
    "# Overview of Methods\n",
    "\n",
    "For each ward:\n",
    "\n",
    "1. Read in the centers for each image.\n",
    "2. Adjust the centers down.\n",
    "3. Extract three images of size 400x425 from each adjusted center: one plain image and two with ward overlayed in pure black and green.\n",
    "4. Write each image to the directory */images/ward_k* where k is the ward number. The filenames for the images are *i_j.png*, *i_j_with_ward.png* and *i_j_with_ward_green.png* where (i,j) are the row and column positions, respectively, of the image in the grid of images from the specific ward (e.g. top left = (0,0)).\n",
    "5. Remove the Google watermarks (i.e. by cropping out the bottom 25 pixels).\n",
    "6. Use the images with the ward overlayed to isolate the pixels that are outside of the ward. Set those pixels to black in the image with the ward in black. Isolate the pixels that are inside the ward and set them to white in the image with the ward in black. The result is a mask for the plain image. There were some issues encountered when isolating the pixels of the image that contained the ward and the pixels that did not. This is because some of the images contained pure black pixels and some of the images contained green pixels outside of the overlayed ward. This was resolved as follows:\n",
    "    * Method for isolating pixels in ward: Let A be the pixels that are black in the image with the ward overlayed in black. Let B be the pixels that are green in the image with the ward overlayed in green. The pixels inside the ward are then A $\\cap$ B.\n",
    "    * Method for isolating pixels out ward: Let A be the pixels that are not black in the image with the ward overlayed in black. Let B be the pixels that are not green in the image with the ward overlayed in green. The pixels outside the ward are then A $\\cup$ B.\n",
    "7. Write the edited plain image to the directory */images/ward_k/edited/i_j.png* and the mask to */images/ward_k/masks/i_j.png*."
   ]
  },
  {
   "cell_type": "markdown",
   "metadata": {},
   "source": [
    "# Libraries Used"
   ]
  },
  {
   "cell_type": "code",
   "execution_count": 112,
   "metadata": {},
   "outputs": [],
   "source": [
    "import cv2\n",
    "import matplotlib.pyplot as plt\n",
    "import numpy as np\n",
    "import json\n",
    "import requests\n",
    "import pandas as pd\n",
    "import os\n",
    "import ast\n",
    "import multiprocessing as mp\n",
    "import time"
   ]
  },
  {
   "cell_type": "markdown",
   "metadata": {},
   "source": [
    "# Constants"
   ]
  },
  {
   "cell_type": "markdown",
   "metadata": {},
   "source": [
    "### Conversion of lat/lng to pixels\n",
    "\n",
    "In order to sample without overlap from the grid of images within the ward, we need to obtain the length of the sampled images in the y- and the x-direction."
   ]
  },
  {
   "cell_type": "code",
   "execution_count": 113,
   "metadata": {},
   "outputs": [],
   "source": [
    "## Radius of squares in grid, figured out by mixture of observation and calculation\n",
    "Y_RAD = 0.00385\n",
    "X_RAD = 0.0043"
   ]
  },
  {
   "cell_type": "markdown",
   "metadata": {},
   "source": [
    "### Adjustment to crop out watermarks\n",
    "\n",
    "Although we need images of dimension 400x400, we are sampling images of size 400x425 (more pixels in the y-direction) and cropping the bottom 25px in order to remove the Google watermarks - resulting in a 400x400 image. However, to do this, we need to shift the center of our sampled images slighly lower, as we are removing pixels from only the bottom of the image, even though there are $\\approx 12.5$ pixels at the top of the image that are also being added. Thus, we need to shift the center down \"12.5 pixels\". Converting this to lat/lng values, we get that:\n",
    "$200$px $\\approx 0.00385^{\\circ}$. So it follows that $12.5$px $\\approx 0.00385^{\\circ}/16$"
   ]
  },
  {
   "cell_type": "markdown",
   "metadata": {},
   "source": [
    "<img src=\"../images_for_demo/Grid_img_without_adjustment.PNG\" width=\"300\">\n",
    "<img src=\"../images_for_demo/Grid_img_with_adjustment.PNG\" width=\"300\">"
   ]
  },
  {
   "cell_type": "code",
   "execution_count": 114,
   "metadata": {},
   "outputs": [],
   "source": [
    "DELTA_Y = Y_RAD/16  # adjustment to crop out watermarks"
   ]
  },
  {
   "cell_type": "code",
   "execution_count": 115,
   "metadata": {},
   "outputs": [],
   "source": [
    "MUNICIPALITY = 'Westonaria'"
   ]
  },
  {
   "cell_type": "code",
   "execution_count": 116,
   "metadata": {},
   "outputs": [],
   "source": [
    "BASE_DIR = '..'\n",
    "IMAGE_DIR = os.path.join(BASE_DIR, 'images', MUNICIPALITY)\n",
    "DATA_DIR = os.path.join(BASE_DIR, 'data', 'image_centers')\n",
    "SHAPE_DIR = os.path.join(BASE_DIR, 'shapefile', MUNICIPALITY)"
   ]
  },
  {
   "cell_type": "code",
   "execution_count": 117,
   "metadata": {},
   "outputs": [],
   "source": [
    "# get the Google Static Maps API key\n",
    "with open(\"../google_api_key_3.txt\", \"r\") as file:\n",
    "    KEY = file.readline()"
   ]
  },
  {
   "cell_type": "markdown",
   "metadata": {},
   "source": [
    "# Extract Images for each Ward"
   ]
  },
  {
   "cell_type": "markdown",
   "metadata": {},
   "source": [
    "### 1. Read in the centers for each image"
   ]
  },
  {
   "cell_type": "code",
   "execution_count": 118,
   "metadata": {},
   "outputs": [
    {
     "name": "stdout",
     "output_type": "stream",
     "text": [
      "ward_no.        int64\n",
      "img_centers    object\n",
      "dtype: object\n"
     ]
    },
    {
     "data": {
      "text/html": [
       "<div>\n",
       "<style scoped>\n",
       "    .dataframe tbody tr th:only-of-type {\n",
       "        vertical-align: middle;\n",
       "    }\n",
       "\n",
       "    .dataframe tbody tr th {\n",
       "        vertical-align: top;\n",
       "    }\n",
       "\n",
       "    .dataframe thead th {\n",
       "        text-align: right;\n",
       "    }\n",
       "</style>\n",
       "<table border=\"1\" class=\"dataframe\">\n",
       "  <thead>\n",
       "    <tr style=\"text-align: right;\">\n",
       "      <th></th>\n",
       "      <th>ward_no.</th>\n",
       "      <th>img_centers</th>\n",
       "    </tr>\n",
       "  </thead>\n",
       "  <tbody>\n",
       "    <tr>\n",
       "      <th>0</th>\n",
       "      <td>1</td>\n",
       "      <td>[[(-26.324598981, 27.5499900030001), (-26.3245...</td>\n",
       "    </tr>\n",
       "    <tr>\n",
       "      <th>1</th>\n",
       "      <td>2</td>\n",
       "      <td>[[(-26.3679599957238, 27.539619995970202), (-2...</td>\n",
       "    </tr>\n",
       "    <tr>\n",
       "      <th>2</th>\n",
       "      <td>3</td>\n",
       "      <td>[[(-26.397681949, 27.591804930000002), (-26.39...</td>\n",
       "    </tr>\n",
       "    <tr>\n",
       "      <th>3</th>\n",
       "      <td>4</td>\n",
       "      <td>[[(-26.316285607999898, 27.6388254030001), (-2...</td>\n",
       "    </tr>\n",
       "    <tr>\n",
       "      <th>4</th>\n",
       "      <td>5</td>\n",
       "      <td>[[(-26.246443765, 27.5295099960001), (-26.2464...</td>\n",
       "    </tr>\n",
       "  </tbody>\n",
       "</table>\n",
       "</div>"
      ],
      "text/plain": [
       "   ward_no.                                        img_centers\n",
       "0         1  [[(-26.324598981, 27.5499900030001), (-26.3245...\n",
       "1         2  [[(-26.3679599957238, 27.539619995970202), (-2...\n",
       "2         3  [[(-26.397681949, 27.591804930000002), (-26.39...\n",
       "3         4  [[(-26.316285607999898, 27.6388254030001), (-2...\n",
       "4         5  [[(-26.246443765, 27.5295099960001), (-26.2464..."
      ]
     },
     "execution_count": 118,
     "metadata": {},
     "output_type": "execute_result"
    }
   ],
   "source": [
    "# read in ward image centers\n",
    "df_ward_centers = pd.read_csv(os.path.join(DATA_DIR, \"{}_ward_image_centers.csv\".format(MUNICIPALITY))) \n",
    "print(df_ward_centers.dtypes)\n",
    "df_ward_centers.head()"
   ]
  },
  {
   "cell_type": "code",
   "execution_count": 119,
   "metadata": {},
   "outputs": [
    {
     "data": {
      "text/plain": [
       "16"
      ]
     },
     "execution_count": 119,
     "metadata": {},
     "output_type": "execute_result"
    }
   ],
   "source": [
    "N_WARDS = df_ward_centers.shape[0]\n",
    "N_WARDS"
   ]
  },
  {
   "cell_type": "markdown",
   "metadata": {},
   "source": [
    "### 2., 3., 4.  Extracting three images for each adjusted center"
   ]
  },
  {
   "cell_type": "code",
   "execution_count": 67,
   "metadata": {},
   "outputs": [],
   "source": [
    "def download_img(center_str, path, col=1):\n",
    "    if col == 1: # black ward and plain image\n",
    "        url = \"https://maps.googleapis.com/maps/api/staticmap?center={}&zoom=16&size=400x425&maptype=satellite&format=png&path=fillcolor:0x000000FF|color:0x000000FF|weight:1{}&key={}\".format(center_str, path, KEY)\n",
    "    elif col == 2: # green ward\n",
    "        url = \"https://maps.googleapis.com/maps/api/staticmap?center={}&zoom=16&size=400x425&maptype=satellite&format=png&path=fillcolor:0x00FF00FF|color:0x00FF00FF|weight:1{}&key={}\".format(center_str, path, KEY)\n",
    "\n",
    "    # HTTP requests\n",
    "    response = requests.get(url)\n",
    "    response.raise_for_status()\n",
    "    return(response)"
   ]
  },
  {
   "cell_type": "code",
   "execution_count": 68,
   "metadata": {},
   "outputs": [],
   "source": [
    "def get_imgs(center_str, ward_num, pos, path):\n",
    "    \n",
    "    # extrecting two images for each center\n",
    "    response_with_ward = download_img(center_str, path)              # image with ward overlayed in black\n",
    "    response_with_ward_green = download_img(center_str, path, 2)     # image with ward overlayed in green\n",
    "    response_no_ward = download_img(center_str, \"\")                  # plain image\n",
    "    \n",
    "    if not os.path.exists(os.path.join(IMAGE_DIR, 'ward_' + str(ward_num))):   # creating ward directory if it doesn't exist\n",
    "        os.makedirs(os.path.join(IMAGE_DIR, 'ward_' + str(ward_num)))\n",
    "    \n",
    "    # storing the responses in a file (images)\n",
    "    \n",
    "    with open(os.path.join(IMAGE_DIR, 'ward_' + str(ward_num), str(pos[0]) + \"_\" + str(pos[1]) + \"_with_ward.png\"), 'wb') as file:\n",
    "       # writing data into the file\n",
    "       file.write(response_with_ward.content)\n",
    "        \n",
    "    with open(os.path.join(IMAGE_DIR, 'ward_' + str(ward_num), str(pos[0]) + \"_\" + str(pos[1]) + \"_with_ward_green.png\"), 'wb') as file:\n",
    "       # writing data into the file\n",
    "       file.write(response_with_ward_green.content)\n",
    "\n",
    "    with open(os.path.join(IMAGE_DIR, 'ward_' + str(ward_num), str(pos[0]) + \"_\" + str(pos[1]) + \".png\"), 'wb') as file:\n",
    "       # writing data into the file\n",
    "       file.write(response_no_ward.content)"
   ]
  },
  {
   "cell_type": "code",
   "execution_count": 69,
   "metadata": {},
   "outputs": [],
   "source": [
    "# function for converting coordinates to format for Google Static Maps API\n",
    "def center_to_string(center):\n",
    "    return str(center[0]) + \",\" + str(center[1])"
   ]
  },
  {
   "cell_type": "code",
   "execution_count": 70,
   "metadata": {},
   "outputs": [],
   "source": [
    "# Opening JSON file of ward shapes\n",
    "def get_all_ward_shapes(file_name):\n",
    "    f = open(file_name,) \n",
    "    shape_dict = json.load(f)                     # Returns JSON object as a dictionary \n",
    "    f.close()\n",
    "    return shape_dict"
   ]
  },
  {
   "cell_type": "code",
   "execution_count": 71,
   "metadata": {},
   "outputs": [],
   "source": [
    "# Extracting coordinates for the ward\n",
    "def get_ward_shape(shape_dict, ward_num):\n",
    "    coords = shape_dict['features'][ward_num][\"geometry\"][\"coordinates\"][0]\n",
    "    return coords"
   ]
  },
  {
   "cell_type": "code",
   "execution_count": 72,
   "metadata": {},
   "outputs": [],
   "source": [
    "# Constructing path for ward outline in the Google Static Maps Api image.\n",
    "def coords_to_path(coords):\n",
    "    path = \"\"\n",
    "    for lat, lng in coords:\n",
    "        path = path + \"|\" + str(lng) + \",\" + str(lat)\n",
    "    return path"
   ]
  },
  {
   "cell_type": "code",
   "execution_count": 37,
   "metadata": {},
   "outputs": [],
   "source": [
    "# dictionary of coordinates for all the wards\n",
    "shape_file_dict = get_all_ward_shapes(os.path.join(SHAPE_DIR, \"{}_shp.json\".format(MUNICIPALITY)))"
   ]
  },
  {
   "cell_type": "code",
   "execution_count": 38,
   "metadata": {},
   "outputs": [
    {
     "name": "stdout",
     "output_type": "stream",
     "text": [
      "2552\n",
      "1564\n",
      "995\n",
      "637\n",
      "2697\n",
      "1513\n",
      "632\n",
      "956\n",
      "1513\n",
      "421\n",
      "515\n",
      "886\n",
      "608\n",
      "450\n",
      "1164\n",
      "1600\n"
     ]
    }
   ],
   "source": [
    "# Checking Google Static Maps API path length retrictions. If this fails, look to 'simplify' the shapefile using mapshaper.\n",
    "for ward_num in range(1, N_WARDS+1):\n",
    "    coords = get_ward_shape(shape_file_dict, ward_num-1)\n",
    "    path = coords_to_path(coords)\n",
    "    print(len(path))\n",
    "    assert len(path) < 8192, \"path is too long: error for ward {}\".format(ward_num)"
   ]
  },
  {
   "cell_type": "code",
   "execution_count": 39,
   "metadata": {},
   "outputs": [],
   "source": [
    "def get_images_for_ward(ward_num):\n",
    "    try:\n",
    "        print('Starting extraction for ward {}'.format(ward_num))\n",
    "        coords = get_ward_shape(shape_file_dict, ward_num-1)                                   # coordinates for ward outline\n",
    "        path = coords_to_path(coords)                                                          # create path for ward outline\n",
    "        assert len(path) < 8192, \"path is too long: error for ward\" + ward_num\n",
    "        for i, row in enumerate(ast.literal_eval(df_ward_centers[\"img_centers\"][ward_num-1])):\n",
    "            for j, row_center in enumerate(row):\n",
    "                center_shifted = (row_center[0] - DELTA_Y, row_center[1])                # shifting the center down by DELTA_Y\n",
    "                get_imgs(center_to_string(center_shifted), ward_num, (i,j), path)      # uncomment to download images\n",
    "        print('Images for ward {} extracted'.format(ward_num))\n",
    "    except Exception as e:\n",
    "        print(f'EXCEPTION: {e}')\n",
    "        print(f'EXCEPTION: occured in ward {ward_num} in position ({i},{j})')\n",
    "        print(f'EXCEPTION: thread shutting down')\n",
    "        raise e\n"
   ]
  },
  {
   "cell_type": "code",
   "execution_count": 40,
   "metadata": {},
   "outputs": [
    {
     "data": {
      "text/plain": [
       "16"
      ]
     },
     "execution_count": 40,
     "metadata": {},
     "output_type": "execute_result"
    }
   ],
   "source": [
    "N_WARDS"
   ]
  },
  {
   "cell_type": "code",
   "execution_count": 41,
   "metadata": {},
   "outputs": [
    {
     "name": "stdout",
     "output_type": "stream",
     "text": [
      "8\n"
     ]
    }
   ],
   "source": [
    "print(mp.cpu_count())"
   ]
  },
  {
   "cell_type": "code",
   "execution_count": 42,
   "metadata": {},
   "outputs": [
    {
     "name": "stdout",
     "output_type": "stream",
     "text": [
      "Starting extraction for ward 1Starting extraction for ward 2Starting extraction for ward 3Starting extraction for ward 4Starting extraction for ward 5Starting extraction for ward 6Starting extraction for ward 7Starting extraction for ward 8\n",
      "\n",
      "\n",
      "\n",
      "\n",
      "\n",
      "\n",
      "\n",
      "Images for ward 4 extracted\n",
      "Starting extraction for ward 9\n",
      "Images for ward 7 extracted\n",
      "Starting extraction for ward 10\n",
      "Images for ward 10 extracted\n",
      "Starting extraction for ward 11\n",
      "Images for ward 3 extracted\n",
      "Starting extraction for ward 12\n",
      "Images for ward 11 extracted\n",
      "Starting extraction for ward 13\n",
      "Images for ward 13 extracted\n",
      "Starting extraction for ward 14\n",
      "Images for ward 14 extracted\n",
      "Starting extraction for ward 15\n",
      "Images for ward 8 extracted\n",
      "Starting extraction for ward 16\n",
      "Images for ward 12 extracted\n",
      "Images for ward 9 extracted\n",
      "Images for ward 15 extracted\n",
      "Images for ward 6 extracted\n",
      "Images for ward 2 extracted\n",
      "Images for ward 16 extracted\n",
      "Images for ward 5 extracted\n",
      "Images for ward 1 extracted\n"
     ]
    }
   ],
   "source": [
    "## Parallel execution\n",
    "pool = mp.Pool(mp.cpu_count())\n",
    "for ward_num in range(1, N_WARDS+1):\n",
    "    pass\n",
    "    pool.apply_async(get_images_for_ward, args=(ward_num,))\n",
    "pool.close()\n",
    "pool.join()"
   ]
  },
  {
   "cell_type": "code",
   "execution_count": 23,
   "metadata": {},
   "outputs": [
    {
     "name": "stdout",
     "output_type": "stream",
     "text": [
      "Starting extraction for ward 105\n",
      "Images for ward 105 extracted\n"
     ]
    }
   ],
   "source": [
    "# Dowload images from Google Static Maps API for each ward\n",
    "# Save in directory ./images/ward_i/\n",
    "# Three images from same location: \n",
    "## row_col.png - plain img\n",
    "## row_col_with_ward.png - img with ward overlayed in black\n",
    "## row_col_with_ward_green.png - img with ward overlayed in green\n",
    "# (row,col) are matrix coordinates\n",
    "# use ast.literal_eval: '[1,2]' -> [1,2]\n",
    "\n",
    "for ward_num in range(1, N_WARDS+1):\n",
    "    print('Starting extraction for ward {}'.format(ward_num))\n",
    "    coords = get_ward_shape(shape_file_dict, ward_num-1)                                   # coordinates for ward outline\n",
    "    path = coords_to_path(coords)                                                          # create path for ward outline\n",
    "    assert len(path) < 8192, \"path is too long: error for ward\" + ward_num\n",
    "    for i, row in enumerate(ast.literal_eval(df_ward_centers[\"img_centers\"][ward_num-1])):\n",
    "        for j, row_center in enumerate(row):\n",
    "            center_shifted = (row_center[0] - DELTA_Y, row_center[1])                # shifting the center down by DELTA_Y\n",
    "            get_imgs(center_to_string(center_shifted), ward_num, (i,j), path)      # uncomment to download images\n",
    "    print('Images for ward {} extracted'.format(ward_num))\n",
    "   "
   ]
  },
  {
   "cell_type": "markdown",
   "metadata": {},
   "source": [
    "# Editing and Saving Images"
   ]
  },
  {
   "cell_type": "markdown",
   "metadata": {},
   "source": [
    "### 5., 6., 7. Edit images, create mask and save"
   ]
  },
  {
   "cell_type": "code",
   "execution_count": 120,
   "metadata": {},
   "outputs": [],
   "source": [
    "# For saving the edited image to ./images/ward_i/edited\n",
    "def save_edited_img(ward_num, f_no_ward, img, mask):\n",
    "    \n",
    "    # create directories if they don't exist\n",
    "    if not os.path.exists(os.path.join(IMAGE_DIR, 'ward_' + str(ward_num), 'edited')):\n",
    "        os.makedirs(os.path.join(IMAGE_DIR, 'ward_' + str(ward_num), 'edited'))\n",
    "    if not os.path.exists(os.path.join(IMAGE_DIR, 'ward_' + str(ward_num), 'masks')):\n",
    "        os.makedirs(os.path.join(IMAGE_DIR, 'ward_' + str(ward_num), 'masks'))\n",
    "    \n",
    "    # writing the images to directories\n",
    "    cv2.imwrite(os.path.join(IMAGE_DIR, 'ward_' + str(ward_num), 'edited', f_no_ward), img)\n",
    "    cv2.imwrite(os.path.join(IMAGE_DIR, 'ward_' + str(ward_num), 'masks', f_no_ward), mask)"
   ]
  },
  {
   "cell_type": "code",
   "execution_count": 121,
   "metadata": {},
   "outputs": [],
   "source": [
    "def transform_to_arr(inds):\n",
    "    x_list, y_list = inds\n",
    "    inds_transformed = [(i,j) for i,j in zip(x_list, y_list)]\n",
    "    return(inds_transformed)"
   ]
  },
  {
   "cell_type": "code",
   "execution_count": 122,
   "metadata": {},
   "outputs": [],
   "source": [
    "def get_intersecting_points(inds1_transformed, inds2_transformed):\n",
    "    inter = set(inds1_transformed).intersection(set(inds2_transformed))\n",
    "    return inter"
   ]
  },
  {
   "cell_type": "code",
   "execution_count": 123,
   "metadata": {},
   "outputs": [],
   "source": [
    "def get_union_points(inds1_transformed, inds2_transformed):\n",
    "    union = list(set().union(inds1_transformed, inds2_transformed))\n",
    "    return union"
   ]
  },
  {
   "cell_type": "code",
   "execution_count": 124,
   "metadata": {},
   "outputs": [],
   "source": [
    "def recreate_pix_object(inter):\n",
    "    x_arr = []\n",
    "    y_arr = []\n",
    "    for xy in inter:\n",
    "        x, y = xy\n",
    "        x_arr.append(x)\n",
    "        y_arr.append(y)\n",
    "    return((np.array(x_arr).astype(int), np.array(y_arr).astype(int)))"
   ]
  },
  {
   "cell_type": "markdown",
   "metadata": {},
   "source": [
    "#### Note on get_pix_in_ward and get_pix_out_ward\n",
    "\n",
    "The result of np.where() is a two-dimensional tuple of two numpy arrays: the first array contains the x-values for the pixels and the second array contains the y-values for the pixels. For example, pixels [1,2] and [3,4] would be represented as ([1,3],[2,4]). Finding the intersection and union of objects of this form proved to be challenging. Thus, we first tranformed the indices into a form that was easier to work with: the above pixels were transformed to be represented as [(1,2), (3,4)]. We could then apply built-in union and intersection functions. However, we then needed to transform the pixels back to their original representation."
   ]
  },
  {
   "cell_type": "code",
   "execution_count": 125,
   "metadata": {},
   "outputs": [],
   "source": [
    "def get_pix_in_ward(inds1, inds2):\n",
    "    inds_transformed_1 = transform_to_arr(inds1)\n",
    "    inds_transformed_2 = transform_to_arr(inds2)\n",
    "    inter = get_intersecting_points(inds_transformed_1, inds_transformed_2)\n",
    "    return recreate_pix_object(inter)"
   ]
  },
  {
   "cell_type": "code",
   "execution_count": 126,
   "metadata": {},
   "outputs": [],
   "source": [
    "def get_pix_out_ward(inds1, inds2):\n",
    "    inds_transformed_1 = transform_to_arr(inds1)\n",
    "    inds_transformed_2 = transform_to_arr(inds2)\n",
    "    union = get_union_points(inds_transformed_1, inds_transformed_2)\n",
    "    return recreate_pix_object(union)"
   ]
  },
  {
   "cell_type": "code",
   "execution_count": 127,
   "metadata": {},
   "outputs": [],
   "source": [
    "# For setting the area of the img outside of the ward to black\n",
    "# Edited image saved to ./images/ward_i/edited\n",
    "def isolate_ward_in_img(ward_num, f_with_ward, f_with_ward_green, f_no_ward):\n",
    "    \n",
    "    # reading in images\n",
    "    img_with_ward = cv2.imread(os.path.join(IMAGE_DIR, 'ward_' + str(ward_num), f_with_ward))\n",
    "    img_with_ward_green = cv2.imread(os.path.join(IMAGE_DIR, 'ward_' + str(ward_num), f_with_ward_green))\n",
    "    img_no_ward = cv2.imread(os.path.join(IMAGE_DIR, 'ward_' + str(ward_num), f_no_ward))\n",
    "\n",
    "    # cropping out the watermarks\n",
    "    img_with_ward_cropped = img_with_ward[0:400,:,:]                  \n",
    "    img_with_ward_green_cropped = img_with_ward_green[0:400,:,:]  \n",
    "    img_no_ward_cropped = img_no_ward[0:400,:,:] \n",
    "\n",
    "    # selecting all black pixels and all green pixels\n",
    "    inds1 = np.where(np.all(img_with_ward_cropped == [0,0,0], axis=-1))\n",
    "    inds2 = np.where(np.all(img_with_ward_green_cropped == [0,254,0], axis=-1))\n",
    "\n",
    "    # selecting all non-black pixels and all non-green pixels\n",
    "    inds1_not = np.where(~np.all(img_with_ward_cropped == [0,0,0], axis=-1))\n",
    "    inds2_not = np.where(~np.all(img_with_ward_green_cropped == [0,254,0], axis=-1))\n",
    "\n",
    "    pix_in_ward = get_pix_in_ward(inds1, inds2)             # getting the pixels in the ward\n",
    "    pix_out_ward = get_pix_out_ward(inds1_not, inds2_not)   # getting the pixels out of the ward\n",
    "\n",
    "    # don't want to save image if covers none of the ward area\n",
    "    if len(pix_in_ward[0]) == 0 and len(pix_in_ward[1]) == 0:\n",
    "#         print(\"Ward {}: no ward in image {}, not saving.\".format(ward_num, f_no_ward))\n",
    "        return 0, 0\n",
    "\n",
    "    # creating mask\n",
    "    img_with_ward_cropped[pix_in_ward] = [255,255,255]  # setting pixels out ward to pure black for the mask\n",
    "    img_with_ward_cropped[pix_out_ward] = [0,0,0]       # setting pixels in ward to pure white for the mask\n",
    "\n",
    "    # return edited plain image and mask\n",
    "    return img_no_ward_cropped, img_with_ward_cropped"
   ]
  },
  {
   "cell_type": "markdown",
   "metadata": {},
   "source": [
    "#### Note on code chunk below\n",
    "\n",
    "We encountered an issue with looping through the files in the directory because the order of the images sometimes would change. Thus, we needed to define a standardized order for walking through the files. This was done by walking through all the columns of the first row, then moving onto the second row and doing the same, and continuing this until there were no more rows.\n",
    "Thus, the outer while loop iterates over the rows and the inner while loop iterates over the columns within the row."
   ]
  },
  {
   "cell_type": "code",
   "execution_count": 93,
   "metadata": {},
   "outputs": [
    {
     "name": "stdout",
     "output_type": "stream",
     "text": [
      "starting ward 1\n",
      "finished ward 1\n",
      "starting ward 2\n",
      "finished ward 2\n",
      "starting ward 3\n",
      "finished ward 3\n",
      "starting ward 4\n",
      "finished ward 4\n",
      "starting ward 5\n",
      "finished ward 5\n",
      "starting ward 6\n",
      "finished ward 6\n",
      "starting ward 7\n",
      "finished ward 7\n",
      "starting ward 8\n",
      "finished ward 8\n",
      "starting ward 9\n",
      "finished ward 9\n",
      "starting ward 10\n",
      "finished ward 10\n",
      "starting ward 11\n",
      "finished ward 11\n",
      "starting ward 12\n",
      "finished ward 12\n",
      "starting ward 13\n",
      "finished ward 13\n",
      "starting ward 14\n",
      "finished ward 14\n",
      "starting ward 15\n",
      "finished ward 15\n",
      "starting ward 16\n",
      "finished ward 16\n",
      "starting ward 17\n",
      "finished ward 17\n",
      "starting ward 18\n",
      "finished ward 18\n",
      "starting ward 19\n",
      "finished ward 19\n",
      "starting ward 20\n",
      "finished ward 20\n",
      "starting ward 21\n",
      "finished ward 21\n",
      "starting ward 22\n",
      "finished ward 22\n",
      "starting ward 23\n",
      "finished ward 23\n",
      "starting ward 24\n",
      "finished ward 24\n",
      "starting ward 25\n",
      "finished ward 25\n",
      "starting ward 26\n",
      "finished ward 26\n",
      "starting ward 27\n",
      "finished ward 27\n",
      "starting ward 28\n",
      "finished ward 28\n",
      "starting ward 29\n",
      "finished ward 29\n",
      "starting ward 30\n",
      "finished ward 30\n",
      "starting ward 31\n",
      "finished ward 31\n",
      "starting ward 32\n",
      "finished ward 32\n",
      "starting ward 33\n",
      "finished ward 33\n",
      "starting ward 34\n",
      "finished ward 34\n",
      "starting ward 35\n",
      "finished ward 35\n",
      "starting ward 36\n",
      "finished ward 36\n",
      "starting ward 37\n",
      "finished ward 37\n",
      "starting ward 38\n",
      "finished ward 38\n",
      "starting ward 39\n",
      "finished ward 39\n",
      "starting ward 40\n",
      "finished ward 40\n",
      "starting ward 41\n",
      "finished ward 41\n",
      "starting ward 42\n",
      "finished ward 42\n",
      "starting ward 43\n",
      "finished ward 43\n",
      "starting ward 44\n",
      "finished ward 44\n",
      "starting ward 45\n",
      "finished ward 45\n",
      "starting ward 46\n",
      "finished ward 46\n",
      "starting ward 47\n",
      "finished ward 47\n",
      "starting ward 48\n",
      "finished ward 48\n",
      "starting ward 49\n",
      "finished ward 49\n",
      "starting ward 50\n",
      "finished ward 50\n",
      "starting ward 51\n",
      "finished ward 51\n",
      "starting ward 52\n",
      "finished ward 52\n",
      "starting ward 53\n",
      "finished ward 53\n",
      "starting ward 54\n",
      "finished ward 54\n",
      "starting ward 55\n",
      "finished ward 55\n",
      "starting ward 56\n",
      "finished ward 56\n",
      "starting ward 57\n",
      "finished ward 57\n",
      "starting ward 58\n",
      "finished ward 58\n",
      "starting ward 59\n",
      "finished ward 59\n",
      "starting ward 60\n",
      "finished ward 60\n",
      "starting ward 61\n",
      "finished ward 61\n",
      "starting ward 62\n",
      "finished ward 62\n",
      "starting ward 63\n",
      "finished ward 63\n",
      "starting ward 64\n",
      "finished ward 64\n",
      "starting ward 65\n",
      "finished ward 65\n",
      "starting ward 66\n",
      "finished ward 66\n",
      "starting ward 67\n",
      "finished ward 67\n",
      "starting ward 68\n",
      "finished ward 68\n",
      "starting ward 69\n",
      "finished ward 69\n",
      "starting ward 70\n",
      "finished ward 70\n",
      "starting ward 71\n",
      "finished ward 71\n",
      "starting ward 72\n",
      "finished ward 72\n",
      "starting ward 73\n",
      "finished ward 73\n",
      "starting ward 74\n",
      "finished ward 74\n",
      "starting ward 75\n",
      "finished ward 75\n",
      "starting ward 76\n",
      "finished ward 76\n",
      "starting ward 77\n",
      "finished ward 77\n",
      "starting ward 78\n",
      "finished ward 78\n",
      "starting ward 79\n",
      "finished ward 79\n",
      "starting ward 80\n",
      "finished ward 80\n",
      "starting ward 81\n",
      "finished ward 81\n",
      "starting ward 82\n",
      "finished ward 82\n",
      "starting ward 83\n",
      "finished ward 83\n",
      "starting ward 84\n",
      "finished ward 84\n",
      "starting ward 85\n",
      "finished ward 85\n",
      "starting ward 86\n",
      "finished ward 86\n",
      "starting ward 87\n",
      "finished ward 87\n",
      "starting ward 88\n",
      "finished ward 88\n",
      "starting ward 89\n",
      "finished ward 89\n",
      "starting ward 90\n",
      "finished ward 90\n",
      "starting ward 91\n",
      "finished ward 91\n",
      "starting ward 92\n",
      "finished ward 92\n",
      "starting ward 93\n",
      "finished ward 93\n",
      "starting ward 94\n",
      "finished ward 94\n",
      "starting ward 95\n",
      "finished ward 95\n",
      "starting ward 96\n",
      "finished ward 96\n",
      "starting ward 97\n",
      "finished ward 97\n",
      "starting ward 98\n",
      "finished ward 98\n",
      "starting ward 99\n",
      "finished ward 99\n",
      "starting ward 100\n",
      "finished ward 100\n",
      "starting ward 101\n",
      "finished ward 101\n",
      "starting ward 102\n",
      "finished ward 102\n",
      "starting ward 103\n",
      "finished ward 103\n",
      "starting ward 104\n",
      "finished ward 104\n",
      "starting ward 105\n",
      "finished ward 105\n"
     ]
    }
   ],
   "source": [
    "# Looping through the directories for each ward, editing the images, creating the masks, then saving\n",
    "# the results in two directories ./images/ward_i/edited and ./images/ward_i/masks\n",
    "# which contain the editted plain images and masks for each image, respectively.\n",
    "for ward_num in range(1, N_WARDS+1):\n",
    "    print(f'starting ward {ward_num}')\n",
    "    directory = os.fsencode(os.path.join(IMAGE_DIR, \"ward_\" + str(ward_num)))\n",
    "    i = 0        # row value in grid\n",
    "    j = 0        # column value in grid\n",
    "#     f_with_ward = f_no_ward = f_with_ward_green = ''\n",
    "    file_name = os.fsencode(\"{}_{}.png\".format(i,j))                                                            # getting filename at the row and col position\n",
    "    files_in_dir = os.listdir(directory)\n",
    "    while (file_name in files_in_dir):                                                                          # checking if filename exists in directory\n",
    "        while(file_name in files_in_dir):                                                                       # checking if filename exists in directory\n",
    "            f_no_ward = os.fsdecode(file_name)                                                                  # decoding filename to string\n",
    "            f_with_ward = \"{}_{}_with_ward.png\".format(i,j)                                                     # getting image with ward in black\n",
    "            f_with_ward_green = \"{}_{}_with_ward_green.png\".format(i,j)                                         # getting image with ward in green\n",
    "            img_plain_cropped, mask = isolate_ward_in_img(ward_num, f_with_ward, f_with_ward_green, f_no_ward)  # cropping, editing and getting mask\n",
    "            if type(img_plain_cropped) != int and type(mask) != int:                                            # check if image contains portion of ward\n",
    "#                 pass\n",
    "                save_edited_img(ward_num, f_no_ward, img_plain_cropped, mask)                                   # saving edited image and mask\n",
    "\n",
    "            j += 1\n",
    "            file_name = os.fsencode(\"{}_{}.png\".format(i,j)) \n",
    "        j = 0\n",
    "        i += 1\n",
    "        file_name = os.fsencode(\"{}_{}.png\".format(i,j)) \n",
    "    print(f'finished ward {ward_num}')    "
   ]
  },
  {
   "cell_type": "code",
   "execution_count": 128,
   "metadata": {},
   "outputs": [],
   "source": [
    "# Looping through the directories for each ward, editing the images, creating the masks, then saving\n",
    "# the results in two directories ./images/ward_i/edited and ./images/ward_i/masks\n",
    "# which contain the editted plain images and masks for each image, respectively.\n",
    "def crop_mask_save(ward_num):\n",
    "    try:\n",
    "        print(f'starting ward {ward_num}')\n",
    "        directory = os.fsencode(os.path.join(IMAGE_DIR, \"ward_\" + str(ward_num)))\n",
    "        i = 0        # row value in grid\n",
    "        j = 0        # column value in grid\n",
    "    #     f_with_ward = f_no_ward = f_with_ward_green = ''\n",
    "        file_name = os.fsencode(\"{}_{}.png\".format(i,j))                                                            # getting filename at the row and col position\n",
    "        files_in_dir = os.listdir(directory)\n",
    "        while (file_name in files_in_dir):                                                                          # checking if filename exists in directory\n",
    "            while(file_name in files_in_dir):                                                                       # checking if filename exists in directory\n",
    "                f_no_ward = os.fsdecode(file_name)                                                                  # decoding filename to string\n",
    "                f_with_ward = \"{}_{}_with_ward.png\".format(i,j)                                                     # getting image with ward in black\n",
    "                f_with_ward_green = \"{}_{}_with_ward_green.png\".format(i,j)                                         # getting image with ward in green\n",
    "                img_plain_cropped, mask = isolate_ward_in_img(ward_num, f_with_ward, f_with_ward_green, f_no_ward)  # cropping, editing and getting mask\n",
    "                if type(img_plain_cropped) != int and type(mask) != int:                                            # check if image contains portion of ward\n",
    "    #                 pass\n",
    "                    save_edited_img(ward_num, f_no_ward, img_plain_cropped, mask)                                   # saving edited image and mask\n",
    "\n",
    "                j += 1\n",
    "                file_name = os.fsencode(\"{}_{}.png\".format(i,j)) \n",
    "            j = 0\n",
    "            i += 1\n",
    "            file_name = os.fsencode(\"{}_{}.png\".format(i,j)) \n",
    "        print(f'finished ward {ward_num}')\n",
    "    except Exception as e:\n",
    "        print(f'EXCEPTION: {e}')\n",
    "        print(f'EXCEPTION: occured in ward {ward_num} in position ({i},{j})')\n",
    "        print(f'EXCEPTION: thread shutting down')"
   ]
  },
  {
   "cell_type": "code",
   "execution_count": 129,
   "metadata": {},
   "outputs": [
    {
     "name": "stdout",
     "output_type": "stream",
     "text": [
      "starting ward 2starting ward 1starting ward 3starting ward 5starting ward 6starting ward 4starting ward 7starting ward 8\n",
      "\n",
      "\n",
      "\n",
      "\n",
      "\n",
      "\n",
      "\n",
      "finished ward 4\n",
      "starting ward 9\n",
      "finished ward 7\n",
      "starting ward 10\n",
      "finished ward 10\n",
      "starting ward 11\n",
      "finished ward 3\n",
      "starting ward 12\n",
      "finished ward 11\n",
      "starting ward 13\n",
      "finished ward 13\n",
      "starting ward 14\n",
      "finished ward 14\n",
      "starting ward 15\n",
      "finished ward 8\n",
      "starting ward 16\n",
      "finished ward 12\n",
      "finished ward 9\n",
      "finished ward 15\n",
      "finished ward 6\n",
      "finished ward 2\n",
      "finished ward 16\n",
      "finished ward 5\n",
      "finished ward 1\n"
     ]
    }
   ],
   "source": [
    "## Parallel execution\n",
    "pool = mp.Pool(mp.cpu_count())\n",
    "for ward_num in range(1, N_WARDS+1):\n",
    "    pass\n",
    "    pool.apply_async(crop_mask_save, args=(ward_num,))\n",
    "pool.close()\n",
    "pool.join()"
   ]
  },
  {
   "cell_type": "markdown",
   "metadata": {},
   "source": [
    "## Demo of intersection and union"
   ]
  },
  {
   "cell_type": "code",
   "execution_count": 9,
   "metadata": {},
   "outputs": [
    {
     "data": {
      "text/plain": [
       "(10, 10, 3)"
      ]
     },
     "execution_count": 9,
     "metadata": {},
     "output_type": "execute_result"
    }
   ],
   "source": [
    "im = np.zeros((10,10,3))\n",
    "im.shape"
   ]
  },
  {
   "cell_type": "code",
   "execution_count": 10,
   "metadata": {},
   "outputs": [
    {
     "name": "stderr",
     "output_type": "stream",
     "text": [
      "Clipping input data to the valid range for imshow with RGB data ([0..1] for floats or [0..255] for integers).\n"
     ]
    },
    {
     "data": {
      "text/plain": [
       "<matplotlib.image.AxesImage at 0x7f823c030130>"
      ]
     },
     "execution_count": 10,
     "metadata": {},
     "output_type": "execute_result"
    },
    {
     "data": {
      "image/png": "[encoded data removed]",
      "text/plain": [
       "<Figure size 432x288 with 1 Axes>"
      ]
     },
     "metadata": {
      "needs_background": "light"
     },
     "output_type": "display_data"
    }
   ],
   "source": [
    "im[1,2,:] = [255,255,255]\n",
    "im[3,4,:] = [255,255,255]\n",
    "im[1,6,:] = [255,255,255]\n",
    "im[6,1,:] = [255,255,255]\n",
    "plt.imshow(im)"
   ]
  },
  {
   "cell_type": "code",
   "execution_count": null,
   "metadata": {},
   "outputs": [],
   "source": []
  }
 ],
 "metadata": {
  "kernelspec": {
   "display_name": "honoursprojectenv",
   "language": "python",
   "name": "honoursprojectenv"
  },
  "language_info": {
   "codemirror_mode": {
    "name": "ipython",
    "version": 3
   },
   "file_extension": ".py",
   "mimetype": "text/x-python",
   "name": "python",
   "nbconvert_exporter": "python",
   "pygments_lexer": "ipython3",
   "version": "3.8.2"
  }
 },
 "nbformat": 4,
 "nbformat_minor": 4
}
