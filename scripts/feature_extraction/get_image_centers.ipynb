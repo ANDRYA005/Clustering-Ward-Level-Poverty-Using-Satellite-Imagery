{
 "cells": [
  {
   "cell_type": "markdown",
   "metadata": {},
   "source": [
    "# Image Location Determination"
   ]
  },
  {
   "cell_type": "markdown",
   "metadata": {},
   "source": [
    "In the first stage of the feature extraction process, the \"unadjusted\" centers for the images needed to cover the wards are obtained. This script determines these centers and writes them to a file for use by the <code>get_images.ipynb</code>."
   ]
  },
  {
   "cell_type": "markdown",
   "metadata": {},
   "source": [
    "# Overview of Methods\n",
    "\n",
    "For each ward within each municipality:\n",
    "\n",
    "1. Use the shapefile to extract the coordinates for the ward\n",
    "2. Calculate a bounding box around ward. \n",
    "3. Get lat/lng of centers for each image in grid.\n",
    "4. Write to <code>/data/image_centers/ward_image_centers.csv</code>.\n"
   ]
  },
  {
   "cell_type": "markdown",
   "metadata": {},
   "source": [
    "# Libraries Used"
   ]
  },
  {
   "cell_type": "code",
   "execution_count": 2,
   "metadata": {},
   "outputs": [],
   "source": [
    "import numpy as np\n",
    "import json\n",
    "import pandas as pd\n",
    "import os"
   ]
  },
  {
   "cell_type": "markdown",
   "metadata": {},
   "source": [
    "# Constants"
   ]
  },
  {
   "cell_type": "markdown",
   "metadata": {},
   "source": [
    "### Conversion of lat/lng to pixels\n",
    "\n",
    "In order to sample without overlap from the grid of images within the ward, we need to obtain the length of the sampled images in the y- and the x-direction."
   ]
  },
  {
   "cell_type": "code",
   "execution_count": 3,
   "metadata": {},
   "outputs": [],
   "source": [
    "## Radius of squares in grid, figured out by mixture of observation and calculation\n",
    "Y_RAD = 0.00385\n",
    "X_RAD = 0.0043"
   ]
  },
  {
   "cell_type": "markdown",
   "metadata": {},
   "source": [
    "Edit to change the municipality of interest. Possible values are: \n",
    "1. 'Emfuleni',\n",
    "2. 'Merafong City',\n",
    "3. 'Midvaal',\n",
    "4. 'Lesedi',\n",
    "5. 'Mogale City',\n",
    "6. 'Ekurhuleni',\n",
    "7. 'Randfontein',\n",
    "8. 'City of Tshwane',\n",
    "9. 'City of Johannesburg'\n",
    "10. 'Westonaria'"
   ]
  },
  {
   "cell_type": "code",
   "execution_count": 4,
   "metadata": {},
   "outputs": [],
   "source": [
    "MUNICIPALITY = 'Westonaria'"
   ]
  },
  {
   "cell_type": "code",
   "execution_count": 6,
   "metadata": {},
   "outputs": [],
   "source": [
    "BASE_DIR = '../..'\n",
    "DATA_DIR = os.path.join(BASE_DIR, 'data')\n",
    "SHAPE_DIR = os.path.join(DATA_DIR, 'shapefiles', MUNICIPALITY)"
   ]
  },
  {
   "cell_type": "markdown",
   "metadata": {},
   "source": [
    "# Get Centers for Images in each Ward\n",
    "\n",
    "Extract the unadjusted image centers for each image in the grid for each ward."
   ]
  },
  {
   "cell_type": "code",
   "execution_count": 12,
   "metadata": {},
   "outputs": [],
   "source": [
    "# Opening JSON file of ward shapes\n",
    "def get_all_ward_shapes(file_name):\n",
    "    f = open(file_name,) \n",
    "    shape_dict = json.load(f)    # Returns JSON object as a dictionary \n",
    "    f.close()\n",
    "    return shape_dict"
   ]
  },
  {
   "cell_type": "code",
   "execution_count": 13,
   "metadata": {},
   "outputs": [],
   "source": [
    "## Extracting coordinates for first ward\n",
    "def get_ward_shape(shape_dict, ward_num):\n",
    "    coords = shape_dict['features'][ward_num][\"geometry\"][\"coordinates\"][0]\n",
    "    return coords"
   ]
  },
  {
   "cell_type": "code",
   "execution_count": 14,
   "metadata": {},
   "outputs": [],
   "source": [
    "## Extracting max and mins for outer bounds of grid\n",
    "def get_min_max(coords):\n",
    "    flatten_coords = [item for sublist in coords for item in sublist]   # flattening the nested list\n",
    "    max_lng = max(flatten_coords[::2])                                  # lngs are even values\n",
    "    min_lng = min(flatten_coords[::2])\n",
    "    max_lat = max(flatten_coords[1::2])                                 # lats are odd values\n",
    "    min_lat = min(flatten_coords[1::2])\n",
    "    return (max_lat, min_lat, max_lng, min_lng) "
   ]
  },
  {
   "cell_type": "code",
   "execution_count": 15,
   "metadata": {},
   "outputs": [],
   "source": [
    "## Extracting all of the centers for the rectangles in the grid\n",
    "def extract_centers(max_lat, min_lat, max_lng, min_lng):\n",
    "    center_top_left = (max_lat - Y_RAD, min_lng + X_RAD)    # Center of the top left rectangle in the grid\n",
    "    center = center_top_left\n",
    "    center_list = []\n",
    "    while(center[0] + Y_RAD > min_lat):                     # Loop for changing rows\n",
    "        row_centers = [center]\n",
    "        while(center[1] + X_RAD < max_lng):                   # Loop for moving along row\n",
    "            center = (center[0], center[1] + 2*X_RAD)\n",
    "            row_centers.append(center)\n",
    "        center_list.append(row_centers)\n",
    "        center = (center[0] - 2*Y_RAD, center_top_left[1])\n",
    "    return center_list"
   ]
  },
  {
   "cell_type": "code",
   "execution_count": 16,
   "metadata": {},
   "outputs": [],
   "source": [
    "# dictionary of coordinates for all the wards\n",
    "shape_file_dict = get_all_ward_shapes(os.path.join(SHAPE_DIR, \"{}_shp.json\".format(MUNICIPALITY)))"
   ]
  },
  {
   "cell_type": "code",
   "execution_count": 17,
   "metadata": {},
   "outputs": [
    {
     "data": {
      "text/plain": [
       "16"
      ]
     },
     "execution_count": 17,
     "metadata": {},
     "output_type": "execute_result"
    }
   ],
   "source": [
    "N_WARDS = len(shape_file_dict['features'])\n",
    "N_WARDS"
   ]
  },
  {
   "cell_type": "code",
   "execution_count": 18,
   "metadata": {},
   "outputs": [],
   "source": [
    "# Constructing path for ward outline in the Google Static Maps API image.\n",
    "def coords_to_path(coords):\n",
    "    path = \"\"\n",
    "    for lat, lng in coords:\n",
    "        path = path + \"|\" + str(lng) + \",\" + str(lat)\n",
    "    return path"
   ]
  },
  {
   "cell_type": "code",
   "execution_count": 19,
   "metadata": {},
   "outputs": [
    {
     "name": "stdout",
     "output_type": "stream",
     "text": [
      "2552\n",
      "1564\n",
      "995\n",
      "637\n",
      "2697\n",
      "1513\n",
      "632\n",
      "956\n",
      "1513\n",
      "421\n",
      "515\n",
      "886\n",
      "608\n",
      "450\n",
      "1164\n",
      "1600\n"
     ]
    }
   ],
   "source": [
    "# Checking Google Static Maps API path length retrictions. If this fails, look to 'simplify' the shapefile using mapshaper.\n",
    "for ward_num in range(1, N_WARDS+1):\n",
    "    coords = get_ward_shape(shape_file_dict, ward_num-1)\n",
    "    path = coords_to_path(coords)\n",
    "    print(len(path))\n",
    "    assert len(path) < 8192, \"path is too long: error for ward {}\".format(ward_num)"
   ]
  },
  {
   "cell_type": "code",
   "execution_count": 20,
   "metadata": {},
   "outputs": [
    {
     "name": "stdout",
     "output_type": "stream",
     "text": [
      "ward_no.        int64\n",
      "img_centers    object\n",
      "dtype: object\n"
     ]
    },
    {
     "data": {
      "text/html": [
       "<div>\n",
       "<style scoped>\n",
       "    .dataframe tbody tr th:only-of-type {\n",
       "        vertical-align: middle;\n",
       "    }\n",
       "\n",
       "    .dataframe tbody tr th {\n",
       "        vertical-align: top;\n",
       "    }\n",
       "\n",
       "    .dataframe thead th {\n",
       "        text-align: right;\n",
       "    }\n",
       "</style>\n",
       "<table border=\"1\" class=\"dataframe\">\n",
       "  <thead>\n",
       "    <tr style=\"text-align: right;\">\n",
       "      <th></th>\n",
       "      <th>ward_no.</th>\n",
       "      <th>img_centers</th>\n",
       "    </tr>\n",
       "  </thead>\n",
       "  <tbody>\n",
       "    <tr>\n",
       "      <th>0</th>\n",
       "      <td>0</td>\n",
       "      <td>0</td>\n",
       "    </tr>\n",
       "    <tr>\n",
       "      <th>1</th>\n",
       "      <td>0</td>\n",
       "      <td>0</td>\n",
       "    </tr>\n",
       "    <tr>\n",
       "      <th>2</th>\n",
       "      <td>0</td>\n",
       "      <td>0</td>\n",
       "    </tr>\n",
       "    <tr>\n",
       "      <th>3</th>\n",
       "      <td>0</td>\n",
       "      <td>0</td>\n",
       "    </tr>\n",
       "    <tr>\n",
       "      <th>4</th>\n",
       "      <td>0</td>\n",
       "      <td>0</td>\n",
       "    </tr>\n",
       "  </tbody>\n",
       "</table>\n",
       "</div>"
      ],
      "text/plain": [
       "   ward_no. img_centers\n",
       "0         0           0\n",
       "1         0           0\n",
       "2         0           0\n",
       "3         0           0\n",
       "4         0           0"
      ]
     },
     "execution_count": 20,
     "metadata": {},
     "output_type": "execute_result"
    }
   ],
   "source": [
    "# dataframe for storing the image centers for each ward\n",
    "df_ward_centers = pd.DataFrame(0, index=np.arange(N_WARDS), columns=[\"ward_no.\", \"img_centers\"])\n",
    "df_ward_centers[\"img_centers\"] = df_ward_centers[\"img_centers\"].astype('object') # converting to object to be able to store lists\n",
    "print(df_ward_centers.dtypes)\n",
    "df_ward_centers.head()"
   ]
  },
  {
   "cell_type": "code",
   "execution_count": 21,
   "metadata": {},
   "outputs": [],
   "source": [
    "# for each ward extract the image centers\n",
    "for ward_num in range(1, N_WARDS+1):\n",
    "    coords = get_ward_shape(shape_file_dict, ward_num-1)               # coordinates for ward\n",
    "    max_lat, min_lat, max_lng, min_lng = get_min_max(coords)           # for bounding box\n",
    "    center_list = extract_centers(max_lat, min_lat, max_lng, min_lng)  # get all the centers for ward\n",
    "    df_ward_centers.at[ward_num-1, 'img_centers'] = center_list        # add the list of centers to the df\n",
    "    df_ward_centers.at[ward_num-1, 'ward_no.'] = ward_num              # add the ward number to the df"
   ]
  },
  {
   "cell_type": "code",
   "execution_count": 22,
   "metadata": {},
   "outputs": [
    {
     "name": "stdout",
     "output_type": "stream",
     "text": [
      "(16, 2)\n"
     ]
    },
    {
     "data": {
      "text/html": [
       "<div>\n",
       "<style scoped>\n",
       "    .dataframe tbody tr th:only-of-type {\n",
       "        vertical-align: middle;\n",
       "    }\n",
       "\n",
       "    .dataframe tbody tr th {\n",
       "        vertical-align: top;\n",
       "    }\n",
       "\n",
       "    .dataframe thead th {\n",
       "        text-align: right;\n",
       "    }\n",
       "</style>\n",
       "<table border=\"1\" class=\"dataframe\">\n",
       "  <thead>\n",
       "    <tr style=\"text-align: right;\">\n",
       "      <th></th>\n",
       "      <th>ward_no.</th>\n",
       "      <th>img_centers</th>\n",
       "    </tr>\n",
       "  </thead>\n",
       "  <tbody>\n",
       "    <tr>\n",
       "      <th>0</th>\n",
       "      <td>1</td>\n",
       "      <td>[[(-26.324598981, 27.5499900030001), (-26.3245...</td>\n",
       "    </tr>\n",
       "    <tr>\n",
       "      <th>1</th>\n",
       "      <td>2</td>\n",
       "      <td>[[(-26.3679599957238, 27.539619995970202), (-2...</td>\n",
       "    </tr>\n",
       "    <tr>\n",
       "      <th>2</th>\n",
       "      <td>3</td>\n",
       "      <td>[[(-26.397681949, 27.591804930000002), (-26.39...</td>\n",
       "    </tr>\n",
       "    <tr>\n",
       "      <th>3</th>\n",
       "      <td>4</td>\n",
       "      <td>[[(-26.316285607999898, 27.6388254030001), (-2...</td>\n",
       "    </tr>\n",
       "    <tr>\n",
       "      <th>4</th>\n",
       "      <td>5</td>\n",
       "      <td>[[(-26.246443765, 27.5295099960001), (-26.2464...</td>\n",
       "    </tr>\n",
       "  </tbody>\n",
       "</table>\n",
       "</div>"
      ],
      "text/plain": [
       "   ward_no.                                        img_centers\n",
       "0         1  [[(-26.324598981, 27.5499900030001), (-26.3245...\n",
       "1         2  [[(-26.3679599957238, 27.539619995970202), (-2...\n",
       "2         3  [[(-26.397681949, 27.591804930000002), (-26.39...\n",
       "3         4  [[(-26.316285607999898, 27.6388254030001), (-2...\n",
       "4         5  [[(-26.246443765, 27.5295099960001), (-26.2464..."
      ]
     },
     "execution_count": 22,
     "metadata": {},
     "output_type": "execute_result"
    }
   ],
   "source": [
    "print(df_ward_centers.shape)\n",
    "df_ward_centers.head()"
   ]
  },
  {
   "cell_type": "code",
   "execution_count": 23,
   "metadata": {},
   "outputs": [],
   "source": [
    "# write to csv for safe keeping\n",
    "if not os.path.exists(os.path.join(DATA_DIR, 'image_centers')):   # creating ward directory if it doesn't exist\n",
    "    os.makedirs(os.path.join(DATA_DIR, 'image_centers'))\n",
    "df_ward_centers.to_csv(os.path.join(DATA_DIR, 'image_centers', '{}_ward_image_centers.csv'.format(MUNICIPALITY)), index=False)"
   ]
  }
 ],
 "metadata": {
  "kernelspec": {
   "display_name": "honoursprojectenv",
   "language": "python",
   "name": "honoursprojectenv"
  },
  "language_info": {
   "codemirror_mode": {
    "name": "ipython",
    "version": 3
   },
   "file_extension": ".py",
   "mimetype": "text/x-python",
   "name": "python",
   "nbconvert_exporter": "python",
   "pygments_lexer": "ipython3",
   "version": "3.8.2"
  }
 },
 "nbformat": 4,
 "nbformat_minor": 4
}
