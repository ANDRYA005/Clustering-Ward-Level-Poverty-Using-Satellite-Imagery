{
 "cells": [
  {
   "cell_type": "markdown",
   "metadata": {},
   "source": [
    "# Preprocessing Shapefiles"
   ]
  },
  {
   "cell_type": "markdown",
   "metadata": {},
   "source": [
    "The script reads in the shapefiles for all of the wards in South Africa and outputs the wards for each of the Gauteng municipalities. The resulting JSON files then need to be moved to <code>data/shapefiles/MUNICIPALITY NAME/MUNICIPALITY NAME_shp.json</code> for use by the proceeding scripts.\n",
    "\n",
    "The output of this script is already in <code>data/shapefiles/MUNICIPALITY NAME/MUNICIPALITY NAME_shp.json</code>. Thus, this script does not have to be run."
   ]
  },
  {
   "cell_type": "code",
   "execution_count": 1,
   "metadata": {},
   "outputs": [],
   "source": [
    "import json\n",
    "import os"
   ]
  },
  {
   "cell_type": "code",
   "execution_count": 2,
   "metadata": {},
   "outputs": [],
   "source": [
    "BASE_DIR = '../..'\n",
    "DATA_DIR = os.path.join(BASE_DIR, 'data')\n",
    "SHAPE_DIR = os.path.join(DATA_DIR, 'shapefiles')"
   ]
  },
  {
   "cell_type": "code",
   "execution_count": 3,
   "metadata": {},
   "outputs": [],
   "source": [
    "# Reading JSON file of ward shapes\n",
    "def get_all_ward_shapes(file_name):\n",
    "    f = open(file_name,) \n",
    "    shape_dict = json.load(f)                     # Returns JSON object as a dictionary \n",
    "    f.close()\n",
    "    return shape_dict"
   ]
  },
  {
   "cell_type": "code",
   "execution_count": 4,
   "metadata": {},
   "outputs": [],
   "source": [
    "# reading in all of the SA wards into a dictionary\n",
    "shape_dict = get_all_ward_shapes(os.path.join(SHAPE_DIR, 'SA_municipal_wards_2011.json'))"
   ]
  },
  {
   "cell_type": "code",
   "execution_count": 5,
   "metadata": {},
   "outputs": [
    {
     "data": {
      "text/plain": [
       "8554"
      ]
     },
     "execution_count": 5,
     "metadata": {},
     "output_type": "execute_result"
    }
   ],
   "source": [
    "# very big dictionary!\n",
    "len(shape_dict['features'])"
   ]
  },
  {
   "cell_type": "code",
   "execution_count": 6,
   "metadata": {},
   "outputs": [
    {
     "data": {
      "text/plain": [
       "{'OBJECTID': 1001,\n",
       " 'ProvinceCo': 'LIM',\n",
       " 'ProvinceNa': 'Limpopo',\n",
       " 'LocalMunic': 'LIM332',\n",
       " 'WardNumber': '3',\n",
       " 'WardID': '93302003',\n",
       " 'LocalMun_1': 'Greater Letaba',\n",
       " 'DistrictMu': 'DC33',\n",
       " 'District_1': 'Mopani',\n",
       " 'Year': 2011,\n",
       " 'Shape__Are': 2975910.41699219,\n",
       " 'Shape__Len': 9354.68949928675}"
      ]
     },
     "execution_count": 6,
     "metadata": {},
     "output_type": "execute_result"
    }
   ],
   "source": [
    "# need to use this information to obtain wards for Gauteng municipalities\n",
    "shape_dict['features'][1000]['properties']"
   ]
  },
  {
   "cell_type": "code",
   "execution_count": 7,
   "metadata": {},
   "outputs": [],
   "source": [
    "# sorting municipality's results by ward number\n",
    "def sort_by_ward(sub_li): \n",
    "    # reverse = None (Sorts in Ascending order) \n",
    "    # key is set to sort using second element of  \n",
    "    # sublist lambda has been used \n",
    "    sub_li.sort(key = lambda x: int(x['properties']['WardNumber'])) \n",
    "    return sub_li "
   ]
  },
  {
   "cell_type": "code",
   "execution_count": 8,
   "metadata": {},
   "outputs": [],
   "source": [
    "# removing any duplicate entries for a ward\n",
    "def remove_duplicates(items):\n",
    "    items_no_duplicates = []\n",
    "    ward_nums = []\n",
    "    for feat in items:\n",
    "        ward_num = feat['properties']['WardNumber']\n",
    "        if ward_num not in ward_nums:\n",
    "            items_no_duplicates.append(feat)\n",
    "            ward_nums.append(ward_num)\n",
    "    return items_no_duplicates"
   ]
  },
  {
   "cell_type": "code",
   "execution_count": 9,
   "metadata": {},
   "outputs": [],
   "source": [
    "# extracts the shapefile for a particular municipality and writes to JSON\n",
    "def get_munic_shp(name):\n",
    "    shape_dict_copy = shape_dict.copy()\n",
    "    ward_nums = []\n",
    "    items_no_duplicates = []\n",
    "    items = [el for el in shape_dict['features'] if el['properties']['LocalMun_1'] == name and el['properties']['ProvinceNa'] == 'Gauteng']\n",
    "    \n",
    "    # Rand West City is a combination of Westonaria and Randfontein. So we need to treat it separately.\n",
    "    if name != 'Rand West City':\n",
    "        items_no_duplicates = remove_duplicates(items)\n",
    "        items_no_duplicates_sorted = sort_by_ward(items_no_duplicates)\n",
    "        print(\"There are {} wards in {}\".format(len(items_no_duplicates_sorted), name))\n",
    "        shape_dict_copy['features'] = items_no_duplicates_sorted\n",
    "        out_file = open(\"{}_shp.json\".format(name), \"w\") \n",
    "        json.dump(shape_dict_copy, out_file) \n",
    "        out_file.close() "
   ]
  },
  {
   "cell_type": "code",
   "execution_count": 28,
   "metadata": {},
   "outputs": [
    {
     "data": {
      "text/plain": [
       "{'City of Johannesburg',\n",
       " 'City of Tshwane',\n",
       " 'Ekurhuleni',\n",
       " 'Emfuleni',\n",
       " 'Lesedi',\n",
       " 'Merafong City',\n",
       " 'Midvaal',\n",
       " 'Mogale City',\n",
       " 'Rand West City'}"
      ]
     },
     "execution_count": 28,
     "metadata": {},
     "output_type": "execute_result"
    }
   ],
   "source": [
    "# the names of the Guateng municipalities. Rand West City is now two municipalities (Westonaria and Randfontein), and needs to be split accordingly.\n",
    "gau_municipalities = set([el['properties']['LocalMun_1'] for el in shape_dict['features'] if el['properties']['ProvinceNa'] == 'Gauteng'])\n",
    "gau_municipalities"
   ]
  },
  {
   "cell_type": "code",
   "execution_count": 29,
   "metadata": {},
   "outputs": [
    {
     "name": "stdout",
     "output_type": "stream",
     "text": [
      "There are 101 wards in Ekurhuleni\n",
      "There are 45 wards in Emfuleni\n",
      "There are 28 wards in Merafong City\n",
      "There are 13 wards in Lesedi\n",
      "There are 14 wards in Midvaal\n",
      "There are 130 wards in City of Johannesburg\n",
      "There are 105 wards in City of Tshwane\n",
      "There are 34 wards in Mogale City\n"
     ]
    }
   ],
   "source": [
    "# obtain shapefiles for each municipality (except Rand West City) and write to json\n",
    "for munic_name in gau_municipalities:\n",
    "    get_munic_shp(munic_name)"
   ]
  },
  {
   "cell_type": "markdown",
   "metadata": {},
   "source": [
    "## Accounting for issue with Rand West City"
   ]
  },
  {
   "cell_type": "markdown",
   "metadata": {},
   "source": [
    "The shapefiles (JSON) that are now in your current directory should be moved to <code>data/shapefiles/MUNICIPALITY NAME/MUNICIPALITY_shp.json</code> for use by the other scripts."
   ]
  },
  {
   "cell_type": "markdown",
   "metadata": {},
   "source": [
    "Rand West City needs to broken up into Westonaria and Randfontein. This will be done now:"
   ]
  },
  {
   "cell_type": "code",
   "execution_count": 27,
   "metadata": {},
   "outputs": [
    {
     "name": "stdout",
     "output_type": "stream",
     "text": [
      "There are 22 wards in Randfontein\n",
      "There are 16 wards in Westonaria\n"
     ]
    }
   ],
   "source": [
    "shape_dict_copy = shape_dict.copy()\n",
    "items = [el for el in shape_dict['features'] if el['properties']['LocalMun_1'] == 'Rand West City' and el['properties']['ProvinceNa'] == 'Gauteng']\n",
    "\n",
    "randfontein = []\n",
    "westonaria = []\n",
    "i = 0\n",
    "for el in items:\n",
    "    i += 1\n",
    "    # working out which wards are from which municipality\n",
    "    if el['properties']['WardID'][4] == '2':\n",
    "        randfontein.append(el)\n",
    "    elif el['properties']['WardID'][4] == '3':\n",
    "        westonaria.append(el)\n",
    "\n",
    "randfontein_no_duplicates = remove_duplicates(randfontein)\n",
    "randfontein_no_duplicates_sorted = sort_by_ward(randfontein_no_duplicates)\n",
    "\n",
    "westonaria_no_duplicates = remove_duplicates(westonaria)\n",
    "westonaria_no_duplicates_sorted = sort_by_ward(westonaria_no_duplicates)\n",
    "\n",
    "print(\"There are {} wards in {}\".format(len(randfontein_no_duplicates_sorted), \"Randfontein\"))\n",
    "print(\"There are {} wards in {}\".format(len(westonaria_no_duplicates_sorted), \"Westonaria\"))\n",
    "\n",
    "shape_dict_copy['features'] = sort_by_ward(randfontein_no_duplicates_sorted)\n",
    "out_file = open(\"{}_shp.json\".format('Randfontein'), \"w\") \n",
    "json.dump(shape_dict_copy, out_file) \n",
    "out_file.close() \n",
    "\n",
    "shape_dict_copy['features'] = sort_by_ward(westonaria_no_duplicates_sorted)\n",
    "out_file = open(\"{}_shp.json\".format('Westonaria'), \"w\") \n",
    "json.dump(shape_dict_copy, out_file) \n",
    "out_file.close() "
   ]
  }
 ],
 "metadata": {
  "kernelspec": {
   "display_name": "honoursprojectenv",
   "language": "python",
   "name": "honoursprojectenv"
  },
  "language_info": {
   "codemirror_mode": {
    "name": "ipython",
    "version": 3
   },
   "file_extension": ".py",
   "mimetype": "text/x-python",
   "name": "python",
   "nbconvert_exporter": "python",
   "pygments_lexer": "ipython3",
   "version": "3.8.2"
  }
 },
 "nbformat": 4,
 "nbformat_minor": 4
}
