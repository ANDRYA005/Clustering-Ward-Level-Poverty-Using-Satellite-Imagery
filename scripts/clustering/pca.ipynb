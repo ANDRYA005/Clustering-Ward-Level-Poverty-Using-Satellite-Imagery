{
 "cells": [
  {
   "cell_type": "markdown",
   "metadata": {},
   "source": [
    "# Principal Component Analysis\n",
    "\n",
    "This script applies PCA to the 508x4096 feature set in order to reduce the dimensions. It finds the number of principal components (PCs) to use for the remainder of the project as the first 6 (6PCs) and 18 (18PCs) principal components.\n",
    "\n",
    "## Load the needed packages"
   ]
  },
  {
   "cell_type": "code",
   "execution_count": 28,
   "metadata": {},
   "outputs": [],
   "source": [
    "from sklearn.decomposition import PCA\n",
    "import pandas as pd \n",
    "import numpy as np\n",
    "import os\n",
    "import matplotlib.pyplot as plt\n",
    "\n",
    "SMALL_SIZE = 12\n",
    "MEDIUM_SIZE = 14\n",
    "BIGGER_SIZE = 16\n",
    "TITLE_SIZE = 18\n",
    "\n",
    "plt.rc('font', size=SMALL_SIZE)          # controls default text sizes\n",
    "plt.rc('axes', titlesize=SMALL_SIZE)     # fontsize of the axes title\n",
    "plt.rc('axes', labelsize=MEDIUM_SIZE)    # fontsize of the x and y labels\n",
    "plt.rc('xtick', labelsize=MEDIUM_SIZE)   # fontsize of the tick labels\n",
    "plt.rc('ytick', labelsize=MEDIUM_SIZE)   # fontsize of the tick labels\n",
    "plt.rc('legend', fontsize=SMALL_SIZE)    # legend fontsize\n",
    "plt.rc('figure', titlesize=TITLE_SIZE) \n",
    "\n",
    "from matplotlib import rcParams\n",
    "rcParams['axes.titlepad'] = 20 \n",
    "rcParams['xtick.major.pad']='8'\n",
    "rcParams['ytick.major.pad']='8'\n"
   ]
  },
  {
   "cell_type": "code",
   "execution_count": 29,
   "metadata": {},
   "outputs": [],
   "source": [
    "BASE_DIR = '../..'\n",
    "DATA_DIR = os.path.join(BASE_DIR, 'data')\n",
    "FEATURES_DIR = os.path.join(DATA_DIR, 'extracted_features')"
   ]
  },
  {
   "cell_type": "markdown",
   "metadata": {},
   "source": [
    "## Load feature set"
   ]
  },
  {
   "cell_type": "code",
   "execution_count": 30,
   "metadata": {},
   "outputs": [
    {
     "data": {
      "text/plain": [
       "(508, 4096)"
      ]
     },
     "execution_count": 30,
     "metadata": {},
     "output_type": "execute_result"
    }
   ],
   "source": [
    "# read in data from csv file\n",
    "df = pd.read_csv(os.path.join(FEATURES_DIR, \"all_features.csv\")) # feature set for 508 gauteng wards\n",
    "df_labels = df.drop(df.columns[3:4099], axis=1) # creating labels for csv file later on\n",
    "df_labels = df_labels.drop(df_labels.columns[0], axis=1)\n",
    "\n",
    "df = df.drop([df.columns[0],\"Municipality\",\"ward_no.\"], axis=1) # remove columns that serve as index and naming columns\n",
    "df.head()\n",
    "\n",
    "df.shape # the dataframe is 508 rows (wards) and 4096 columns (features)"
   ]
  },
  {
   "cell_type": "markdown",
   "metadata": {},
   "source": [
    "## Calculate first 508 PCs\n",
    "\n",
    "Begin by visualising the first 508 PCs*. \n",
    "\n",
    "*Note that the current PCA function does not allow to fit more than 508 PCs."
   ]
  },
  {
   "cell_type": "code",
   "execution_count": 31,
   "metadata": {},
   "outputs": [
    {
     "data": {
      "image/png": "[encoded data removed]",
      "text/plain": [
       "<Figure size 792x360 with 2 Axes>"
      ]
     },
     "metadata": {
      "needs_background": "light"
     },
     "output_type": "display_data"
    }
   ],
   "source": [
    "# Create a PCA instance: pca1\n",
    "pca1 = PCA(n_components=508) # create 508 PC's\n",
    "principalComponents1 = pca1.fit_transform(df) # apply the pc's to the feature set\n",
    "\n",
    "# Plot the explained variances\n",
    "features1 = range(pca1.n_components_)\n",
    "\n",
    "# Save components to a DataFrame\n",
    "PCA_components1 = pd.DataFrame(principalComponents1)\n",
    "\n",
    "# compute cumulative variance explained by PCs\n",
    "var_explained1 = pca1.explained_variance_ratio_\n",
    "cumulative_var_explained1 = var_explained1.cumsum()\n",
    "\n",
    "var_df = pd.DataFrame(var_explained1)\n",
    "var_df.columns = [\"Variance Explained\"]\n",
    "\n",
    "# plot variance explained by ith PC\n",
    "plt.figure(figsize=(11, 5))\n",
    "plt.subplot(1,2,1)\n",
    "plt.step(features1,pca1.explained_variance_ratio_, color='black')\n",
    "plt.ylabel(\"Variance\", fontsize=16, labelpad=10)\n",
    "plt.xlabel(\"Principal components\", fontsize=16, labelpad=12)\n",
    "\n",
    "# plot cumulative variance explained up to and including the ith PC\n",
    "plt.subplot(1,2,2)\n",
    "plt.step(features1,cumulative_var_explained1)\n",
    "plt.ylabel(\"Cumulative variance\", fontsize=16, labelpad=10)\n",
    "plt.xlabel(\"Principal components\", fontsize=16, labelpad=12)\n",
    "\n",
    "plt.tight_layout(pad=3.0)\n",
    "# plt.savefig(\"variance_508.pdf\") #save the plot to pdf"
   ]
  },
  {
   "cell_type": "markdown",
   "metadata": {},
   "source": [
    "## Save PCs to csv\n",
    "Save these PCs to a csv for later use."
   ]
  },
  {
   "cell_type": "code",
   "execution_count": 32,
   "metadata": {},
   "outputs": [
    {
     "data": {
      "text/html": [
       "<div>\n",
       "<style scoped>\n",
       "    .dataframe tbody tr th:only-of-type {\n",
       "        vertical-align: middle;\n",
       "    }\n",
       "\n",
       "    .dataframe tbody tr th {\n",
       "        vertical-align: top;\n",
       "    }\n",
       "\n",
       "    .dataframe thead th {\n",
       "        text-align: right;\n",
       "    }\n",
       "</style>\n",
       "<table border=\"1\" class=\"dataframe\">\n",
       "  <thead>\n",
       "    <tr style=\"text-align: right;\">\n",
       "      <th></th>\n",
       "      <th>ward_no.</th>\n",
       "      <th>Municipality</th>\n",
       "      <th>0</th>\n",
       "      <th>1</th>\n",
       "      <th>2</th>\n",
       "      <th>3</th>\n",
       "      <th>4</th>\n",
       "      <th>5</th>\n",
       "      <th>6</th>\n",
       "      <th>7</th>\n",
       "      <th>...</th>\n",
       "      <th>498</th>\n",
       "      <th>499</th>\n",
       "      <th>500</th>\n",
       "      <th>501</th>\n",
       "      <th>502</th>\n",
       "      <th>503</th>\n",
       "      <th>504</th>\n",
       "      <th>505</th>\n",
       "      <th>506</th>\n",
       "      <th>507</th>\n",
       "    </tr>\n",
       "  </thead>\n",
       "  <tbody>\n",
       "    <tr>\n",
       "      <th>0</th>\n",
       "      <td>1</td>\n",
       "      <td>Emfuleni</td>\n",
       "      <td>-5.076268</td>\n",
       "      <td>4.266881</td>\n",
       "      <td>0.809587</td>\n",
       "      <td>-2.978680</td>\n",
       "      <td>-1.277309</td>\n",
       "      <td>1.801608</td>\n",
       "      <td>1.677841</td>\n",
       "      <td>-3.107454</td>\n",
       "      <td>...</td>\n",
       "      <td>-0.017264</td>\n",
       "      <td>0.001217</td>\n",
       "      <td>0.004934</td>\n",
       "      <td>-0.005022</td>\n",
       "      <td>0.002028</td>\n",
       "      <td>0.012065</td>\n",
       "      <td>0.008158</td>\n",
       "      <td>-0.004625</td>\n",
       "      <td>-0.004246</td>\n",
       "      <td>4.805662e-15</td>\n",
       "    </tr>\n",
       "    <tr>\n",
       "      <th>1</th>\n",
       "      <td>2</td>\n",
       "      <td>Emfuleni</td>\n",
       "      <td>-0.721154</td>\n",
       "      <td>-4.826540</td>\n",
       "      <td>-4.425994</td>\n",
       "      <td>0.442247</td>\n",
       "      <td>-3.308051</td>\n",
       "      <td>-1.352832</td>\n",
       "      <td>-2.088803</td>\n",
       "      <td>-0.437611</td>\n",
       "      <td>...</td>\n",
       "      <td>-0.000131</td>\n",
       "      <td>-0.000230</td>\n",
       "      <td>0.001535</td>\n",
       "      <td>0.002680</td>\n",
       "      <td>0.001170</td>\n",
       "      <td>-0.000115</td>\n",
       "      <td>-0.001599</td>\n",
       "      <td>0.000846</td>\n",
       "      <td>-0.000555</td>\n",
       "      <td>4.805662e-15</td>\n",
       "    </tr>\n",
       "    <tr>\n",
       "      <th>2</th>\n",
       "      <td>3</td>\n",
       "      <td>Emfuleni</td>\n",
       "      <td>-1.855913</td>\n",
       "      <td>-2.534022</td>\n",
       "      <td>-1.699612</td>\n",
       "      <td>5.373496</td>\n",
       "      <td>-2.676584</td>\n",
       "      <td>-0.997830</td>\n",
       "      <td>0.797341</td>\n",
       "      <td>-1.503030</td>\n",
       "      <td>...</td>\n",
       "      <td>-0.004985</td>\n",
       "      <td>0.002332</td>\n",
       "      <td>-0.001653</td>\n",
       "      <td>-0.003120</td>\n",
       "      <td>0.000471</td>\n",
       "      <td>0.000672</td>\n",
       "      <td>-0.001676</td>\n",
       "      <td>-0.000250</td>\n",
       "      <td>-0.002484</td>\n",
       "      <td>4.805662e-15</td>\n",
       "    </tr>\n",
       "    <tr>\n",
       "      <th>3</th>\n",
       "      <td>4</td>\n",
       "      <td>Emfuleni</td>\n",
       "      <td>-2.303890</td>\n",
       "      <td>-1.456174</td>\n",
       "      <td>5.248775</td>\n",
       "      <td>3.239546</td>\n",
       "      <td>-2.565638</td>\n",
       "      <td>0.318080</td>\n",
       "      <td>0.077455</td>\n",
       "      <td>-0.714126</td>\n",
       "      <td>...</td>\n",
       "      <td>0.005413</td>\n",
       "      <td>0.007550</td>\n",
       "      <td>0.006791</td>\n",
       "      <td>0.001223</td>\n",
       "      <td>0.001422</td>\n",
       "      <td>-0.001028</td>\n",
       "      <td>0.002100</td>\n",
       "      <td>-0.004409</td>\n",
       "      <td>0.001264</td>\n",
       "      <td>4.805662e-15</td>\n",
       "    </tr>\n",
       "    <tr>\n",
       "      <th>4</th>\n",
       "      <td>5</td>\n",
       "      <td>Emfuleni</td>\n",
       "      <td>11.026357</td>\n",
       "      <td>0.772518</td>\n",
       "      <td>6.870430</td>\n",
       "      <td>5.641095</td>\n",
       "      <td>-3.904960</td>\n",
       "      <td>3.507357</td>\n",
       "      <td>0.289020</td>\n",
       "      <td>-1.376312</td>\n",
       "      <td>...</td>\n",
       "      <td>0.003730</td>\n",
       "      <td>-0.003468</td>\n",
       "      <td>-0.001350</td>\n",
       "      <td>-0.003448</td>\n",
       "      <td>-0.000976</td>\n",
       "      <td>0.002545</td>\n",
       "      <td>0.002290</td>\n",
       "      <td>0.002642</td>\n",
       "      <td>-0.004992</td>\n",
       "      <td>4.805662e-15</td>\n",
       "    </tr>\n",
       "  </tbody>\n",
       "</table>\n",
       "<p>5 rows × 510 columns</p>\n",
       "</div>"
      ],
      "text/plain": [
       "   ward_no. Municipality          0         1         2         3         4  \\\n",
       "0         1     Emfuleni  -5.076268  4.266881  0.809587 -2.978680 -1.277309   \n",
       "1         2     Emfuleni  -0.721154 -4.826540 -4.425994  0.442247 -3.308051   \n",
       "2         3     Emfuleni  -1.855913 -2.534022 -1.699612  5.373496 -2.676584   \n",
       "3         4     Emfuleni  -2.303890 -1.456174  5.248775  3.239546 -2.565638   \n",
       "4         5     Emfuleni  11.026357  0.772518  6.870430  5.641095 -3.904960   \n",
       "\n",
       "          5         6         7  ...       498       499       500       501  \\\n",
       "0  1.801608  1.677841 -3.107454  ... -0.017264  0.001217  0.004934 -0.005022   \n",
       "1 -1.352832 -2.088803 -0.437611  ... -0.000131 -0.000230  0.001535  0.002680   \n",
       "2 -0.997830  0.797341 -1.503030  ... -0.004985  0.002332 -0.001653 -0.003120   \n",
       "3  0.318080  0.077455 -0.714126  ...  0.005413  0.007550  0.006791  0.001223   \n",
       "4  3.507357  0.289020 -1.376312  ...  0.003730 -0.003468 -0.001350 -0.003448   \n",
       "\n",
       "        502       503       504       505       506           507  \n",
       "0  0.002028  0.012065  0.008158 -0.004625 -0.004246  4.805662e-15  \n",
       "1  0.001170 -0.000115 -0.001599  0.000846 -0.000555  4.805662e-15  \n",
       "2  0.000471  0.000672 -0.001676 -0.000250 -0.002484  4.805662e-15  \n",
       "3  0.001422 -0.001028  0.002100 -0.004409  0.001264  4.805662e-15  \n",
       "4 -0.000976  0.002545  0.002290  0.002642 -0.004992  4.805662e-15  \n",
       "\n",
       "[5 rows x 510 columns]"
      ]
     },
     "execution_count": 32,
     "metadata": {},
     "output_type": "execute_result"
    }
   ],
   "source": [
    "PCA_components1 = pd.concat([df_labels, pd.DataFrame(principalComponents1)], axis=1, sort=False)\n",
    "PCA_components1.head()"
   ]
  },
  {
   "cell_type": "code",
   "execution_count": 33,
   "metadata": {},
   "outputs": [],
   "source": [
    "# write to csv\n",
    "PCA_components1.to_csv('principal_components.csv', index=False)"
   ]
  },
  {
   "cell_type": "markdown",
   "metadata": {},
   "source": [
    "## Visualise 150PCs and 50PCs\n",
    "\n",
    "Plot first 150 and 50 PCs to better inform the choice of number of PCs to use."
   ]
  },
  {
   "cell_type": "code",
   "execution_count": 6,
   "metadata": {},
   "outputs": [
    {
     "data": {
      "image/png": "[encoded data removed]",
      "text/plain": [
       "<Figure size 792x360 with 2 Axes>"
      ]
     },
     "metadata": {
      "needs_background": "light"
     },
     "output_type": "display_data"
    }
   ],
   "source": [
    "# Create a PCA instance: pca\n",
    "pca150 = PCA(n_components=150) # create 150 PC's\n",
    "pca50 = PCA(n_components=50) # create 50 PC's\n",
    "\n",
    "principalComponents150 = pca150.fit_transform(df) # apply the first 150 pc's to the feature set\n",
    "principalComponents50 = pca50.fit_transform(df) # apply the first 50 pc's to the feature set\n",
    "\n",
    "features150 = range(pca150.n_components_) # x-axis label\n",
    "features50 = range(pca50.n_components_) # x-axis label\n",
    "\n",
    "plt.figure(figsize=(11, 5))\n",
    "# plot 150PCs\n",
    "ax = plt.subplot(1,2,1)\n",
    "plt.step(features150,pca150.explained_variance_ratio_, color='black')\n",
    "plt.ylabel(\"Variance\", fontsize=16, labelpad=10)\n",
    "plt.xlabel(\"Principal components\", fontsize=16, labelpad=12)\n",
    "\n",
    "# plot 50PCs\n",
    "plt.subplot(1,2,2)\n",
    "plt.step(features50,pca50.explained_variance_ratio_, color='black')\n",
    "plt.ylabel(\"Variance\", fontsize=16, labelpad=10)\n",
    "plt.xlabel(\"Principal components\", fontsize=16, labelpad=12)\n",
    "\n",
    "plt.tight_layout(pad=3.0)\n",
    "# plt.savefig(\"variance_150_50.pdf\") # save the plot to pdf"
   ]
  },
  {
   "cell_type": "markdown",
   "metadata": {},
   "source": [
    "### A closer look at variance explained\n",
    "The following plot indicates the cumulative variance explained at different points. The points are chosen where there seems to be an elbow in the graph."
   ]
  },
  {
   "cell_type": "code",
   "execution_count": 7,
   "metadata": {},
   "outputs": [
    {
     "data": {
      "text/plain": [
       "Text(41.5, 0.27, '$\\\\lambda_{40}$')"
      ]
     },
     "execution_count": 7,
     "metadata": {},
     "output_type": "execute_result"
    },
    {
     "data": {
      "image/png": "[encoded data removed]",
      "text/plain": [
       "<Figure size 504x432 with 1 Axes>"
      ]
     },
     "metadata": {
      "needs_background": "light"
     },
     "output_type": "display_data"
    }
   ],
   "source": [
    "plt.figure(figsize=(7, 6))\n",
    "plt.step(features50, pca50.explained_variance_ratio_, color='black')\n",
    "plt.ylabel(\"Variance\", fontsize=18, labelpad=10)\n",
    "plt.xlabel(\"Principal components\", fontsize=18, labelpad=12)\n",
    "plt.grid(False)\n",
    "plt.axvline(x=6, color=\"green\",ls=\"--\")\n",
    "plt.axvline(x=18, color=\"blue\",ls=\"--\")\n",
    "plt.axvline(x=26, color=\"purple\",ls=\"--\")\n",
    "plt.axvline(x=40, color=\"darkcyan\",ls=\"--\")\n",
    "\n",
    "# Add text to show number of PCs and cumulative variance explained\n",
    "plt.text(7, 0.45, \"80.98%\", color=\"green\", fontsize=13)\n",
    "plt.text(19, 0.4, \"93.12%\", color=\"blue\", fontsize=13)\n",
    "plt.text(27, 0.35, \"95.42%\", color=\"purple\", fontsize=13)\n",
    "plt.text(41, 0.3, \"97.45%\", color=\"darkcyan\", fontsize=13)\n",
    "\n",
    "plt.text(7.5, 0.42, r'$\\lambda_{6}$', color=\"green\", fontsize=14)\n",
    "plt.text(19.5, 0.37, r'$\\lambda_{18}$', color=\"blue\", fontsize=14)\n",
    "plt.text(27.5, 0.32, r'$\\lambda_{26}$', color=\"purple\", fontsize=14)\n",
    "plt.text(41.5, 0.27, r'$\\lambda_{40}$', color=\"darkcyan\", fontsize=14)\n",
    "\n",
    "# plt.savefig(\"50_pc_var_indicated.pdf\") # save plot to pdf"
   ]
  },
  {
   "cell_type": "markdown",
   "metadata": {},
   "source": [
    "### Variance explained by 6PCs, 18PCs, 26PCs and 40PCs\n",
    "\n",
    "Cumulative variance explained by the above number of principal components. For the K-means and HDBSCAN clustering algorithms both 6PCs and 18PCs will be used for comparison."
   ]
  },
  {
   "cell_type": "code",
   "execution_count": 8,
   "metadata": {},
   "outputs": [
    {
     "name": "stdout",
     "output_type": "stream",
     "text": [
      "[0.8097702877147489, 0.9312303882587317, 0.9542216623222977, 0.9745114672330673]\n"
     ]
    }
   ],
   "source": [
    "a = np.array(cumulative_var_explained1)\n",
    "indeces = [5,17,25,39]\n",
    "print ([a[i] for i in indeces])"
   ]
  }
 ],
 "metadata": {
  "kernelspec": {
   "display_name": "honoursprojectenv",
   "language": "python",
   "name": "honoursprojectenv"
  },
  "language_info": {
   "codemirror_mode": {
    "name": "ipython",
    "version": 3
   },
   "file_extension": ".py",
   "mimetype": "text/x-python",
   "name": "python",
   "nbconvert_exporter": "python",
   "pygments_lexer": "ipython3",
   "version": "3.8.2"
  }
 },
 "nbformat": 4,
 "nbformat_minor": 4
}
