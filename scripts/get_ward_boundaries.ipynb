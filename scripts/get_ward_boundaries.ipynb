{
 "cells": [
  {
   "cell_type": "code",
   "execution_count": 1,
   "metadata": {},
   "outputs": [],
   "source": [
    "import json\n",
    "import pandas as pd\n",
    "import os"
   ]
  },
  {
   "cell_type": "code",
   "execution_count": 2,
   "metadata": {},
   "outputs": [],
   "source": [
    "BASE_DIR = '..'\n",
    "SHAPE_DIR = os.path.join(BASE_DIR, 'shapefile')"
   ]
  },
  {
   "cell_type": "code",
   "execution_count": 3,
   "metadata": {},
   "outputs": [],
   "source": [
    "# Opening JSON file of ward shapes\n",
    "def get_all_ward_shapes(file_name):\n",
    "    f = open(file_name,) \n",
    "    shape_dict = json.load(f)                     # Returns JSON object as a dictionary \n",
    "    f.close()\n",
    "    return shape_dict"
   ]
  },
  {
   "cell_type": "code",
   "execution_count": 4,
   "metadata": {},
   "outputs": [],
   "source": [
    "shape_dict = get_all_ward_shapes(os.path.join(SHAPE_DIR, 'SA_municipal_wards_2011.json'))"
   ]
  },
  {
   "cell_type": "code",
   "execution_count": 5,
   "metadata": {},
   "outputs": [
    {
     "data": {
      "text/plain": [
       "8554"
      ]
     },
     "execution_count": 5,
     "metadata": {},
     "output_type": "execute_result"
    }
   ],
   "source": [
    "len(shape_dict['features'])"
   ]
  },
  {
   "cell_type": "code",
   "execution_count": 18,
   "metadata": {},
   "outputs": [
    {
     "data": {
      "text/plain": [
       "{'OBJECTID': 1001,\n",
       " 'ProvinceCo': 'LIM',\n",
       " 'ProvinceNa': 'Limpopo',\n",
       " 'LocalMunic': 'LIM332',\n",
       " 'WardNumber': '3',\n",
       " 'WardID': '93302003',\n",
       " 'LocalMun_1': 'Greater Letaba',\n",
       " 'DistrictMu': 'DC33',\n",
       " 'District_1': 'Mopani',\n",
       " 'Year': 2011,\n",
       " 'Shape__Are': 2975910.41699219,\n",
       " 'Shape__Len': 9354.68949928675}"
      ]
     },
     "execution_count": 18,
     "metadata": {},
     "output_type": "execute_result"
    }
   ],
   "source": [
    "shape_dict['features'][1000]['properties']"
   ]
  },
  {
   "cell_type": "code",
   "execution_count": 19,
   "metadata": {},
   "outputs": [],
   "source": [
    "gau_shp = [el for el in shape_dict['features'] if el['properties']['ProvinceNa'] == 'Gauteng']"
   ]
  },
  {
   "cell_type": "code",
   "execution_count": 23,
   "metadata": {},
   "outputs": [
    {
     "data": {
      "text/plain": [
       "['Rand West City',\n",
       " 'Mogale City',\n",
       " 'Emfuleni',\n",
       " 'Ekurhuleni',\n",
       " 'Merafong City',\n",
       " 'Midvaal',\n",
       " 'Lesedi',\n",
       " 'City of Tshwane',\n",
       " 'City of Johannesburg']"
      ]
     },
     "execution_count": 23,
     "metadata": {},
     "output_type": "execute_result"
    }
   ],
   "source": [
    "gau_municipalities = list({el['properties']['LocalMun_1'] for el in gau_shp})\n",
    "gau_municipalities"
   ]
  },
  {
   "cell_type": "code",
   "execution_count": 24,
   "metadata": {},
   "outputs": [],
   "source": [
    "shape_dict_gau = shape_dict.copy()\n",
    "shape_dict_gau['features'] = gau_shp"
   ]
  },
  {
   "cell_type": "code",
   "execution_count": 25,
   "metadata": {},
   "outputs": [],
   "source": [
    "out_file = open(\"Gau_shp.json\", \"w\") \n",
    "json.dump(shape_dict_gau, out_file) \n",
    "out_file.close() "
   ]
  },
  {
   "cell_type": "code",
   "execution_count": 73,
   "metadata": {},
   "outputs": [],
   "source": [
    "def sort_by_ward(sub_li): \n",
    "  \n",
    "    # reverse = None (Sorts in Ascending order) \n",
    "    # key is set to sort using second element of  \n",
    "    # sublist lambda has been used \n",
    "    sub_li.sort(key = lambda x: int(x['properties']['WardNumber'])) \n",
    "    return sub_li "
   ]
  },
  {
   "cell_type": "code",
   "execution_count": 112,
   "metadata": {},
   "outputs": [],
   "source": [
    "def remove_duplicates(items):\n",
    "    items_no_duplicates = []\n",
    "    ward_nums = []\n",
    "    for feat in items:\n",
    "        ward_num = feat['properties']['WardNumber']\n",
    "        if ward_num not in ward_nums:\n",
    "            items_no_duplicates.append(feat)\n",
    "            ward_nums.append(ward_num)\n",
    "    return items_no_duplicates"
   ]
  },
  {
   "cell_type": "code",
   "execution_count": 113,
   "metadata": {},
   "outputs": [],
   "source": [
    "def get_munic_shp(name):\n",
    "    shape_dict_copy = shape_dict.copy()\n",
    "    ward_nums = []\n",
    "    items_no_duplicates = []\n",
    "    items = [el for el in shape_dict['features'] if el['properties']['LocalMun_1'] == name and el['properties']['ProvinceNa'] == 'Gauteng']\n",
    "    \n",
    "    if name != 'Rand West City':\n",
    "        items_no_duplicates = remove_duplicates(items)\n",
    "        items_no_duplicates_sorted = sort_by_ward(items_no_duplicates)\n",
    "        print(\"There are {} wards in {}\".format(len(items_no_duplicates_sorted), name))\n",
    "        shape_dict_copy['features'] = items_no_duplicates_sorted\n",
    "    else:\n",
    "        shape_dict_copy['features'] = sort_by_ward(items)\n",
    "    out_file = open(\"{}_shp.json\".format(name), \"w\") \n",
    "    json.dump(shape_dict_copy, out_file) \n",
    "    out_file.close() "
   ]
  },
  {
   "cell_type": "code",
   "execution_count": 114,
   "metadata": {},
   "outputs": [
    {
     "name": "stdout",
     "output_type": "stream",
     "text": [
      "There are 34 wards in Mogale City\n",
      "There are 45 wards in Emfuleni\n",
      "There are 101 wards in Ekurhuleni\n",
      "There are 28 wards in Merafong City\n",
      "There are 14 wards in Midvaal\n",
      "There are 13 wards in Lesedi\n",
      "There are 105 wards in City of Tshwane\n",
      "There are 130 wards in City of Johannesburg\n"
     ]
    }
   ],
   "source": [
    "for munic_name in gau_municipalities:\n",
    "    get_munic_shp(munic_name)"
   ]
  },
  {
   "cell_type": "code",
   "execution_count": 117,
   "metadata": {},
   "outputs": [
    {
     "name": "stdout",
     "output_type": "stream",
     "text": [
      "There are 22 wards in Randfontein\n",
      "There are 16 wards in Westonaria\n",
      "22 16\n"
     ]
    }
   ],
   "source": [
    "shape_dict_copy = shape_dict.copy()\n",
    "items = [el for el in shape_dict['features'] if el['properties']['LocalMun_1'] == 'Rand West City' and el['properties']['ProvinceNa'] == 'Gauteng']\n",
    "\n",
    "randfontein = []\n",
    "westonaria = []\n",
    "i = 0\n",
    "for el in items:\n",
    "    i += 1\n",
    "    if el['properties']['WardID'][4] == '2':\n",
    "        randfontein.append(el)\n",
    "    elif el['properties']['WardID'][4] == '3':\n",
    "        westonaria.append(el)\n",
    "\n",
    "randfontein_no_duplicates = remove_duplicates(randfontein)\n",
    "randfontein_no_duplicates_sorted = sort_by_ward(randfontein_no_duplicates)\n",
    "\n",
    "westonaria_no_duplicates = remove_duplicates(westonaria)\n",
    "westonaria_no_duplicates_sorted = sort_by_ward(westonaria_no_duplicates)\n",
    "\n",
    "print(\"There are {} wards in {}\".format(len(randfontein_no_duplicates_sorted), \"Randfontein\"))\n",
    "print(\"There are {} wards in {}\".format(len(westonaria_no_duplicates_sorted), \"Westonaria\"))\n",
    "\n",
    "shape_dict_copy['features'] = sort_by_ward(randfontein_no_duplicates_sorted)\n",
    "out_file = open(\"{}_shp.json\".format('Randfontein'), \"w\") \n",
    "json.dump(shape_dict_copy, out_file) \n",
    "out_file.close() \n",
    "\n",
    "shape_dict_copy['features'] = sort_by_ward(westonaria_no_duplicates_sorted)\n",
    "out_file = open(\"{}_shp.json\".format('Westonaria'), \"w\") \n",
    "json.dump(shape_dict_copy, out_file) \n",
    "out_file.close() "
   ]
  },
  {
   "cell_type": "code",
   "execution_count": 104,
   "metadata": {},
   "outputs": [
    {
     "data": {
      "text/plain": [
       "76"
      ]
     },
     "execution_count": 104,
     "metadata": {},
     "output_type": "execute_result"
    }
   ],
   "source": [
    "items = get_all_ward_shapes('Rand West City_shp.json')\n",
    "len(items['features'])"
   ]
  },
  {
   "cell_type": "code",
   "execution_count": 110,
   "metadata": {},
   "outputs": [
    {
     "name": "stdout",
     "output_type": "stream",
     "text": [
      "76\n"
     ]
    }
   ],
   "source": [
    "randfontein = []\n",
    "westonaria = []\n",
    "i = 0\n",
    "for el in items['features']:\n",
    "    i += 1\n",
    "    if el['properties']['WardID'][4] == '2':\n",
    "        randfontein.append(el)\n",
    "    elif el['properties']['WardID'][4] == '3':\n",
    "        westonaria.append(el)\n",
    "print(i)"
   ]
  },
  {
   "cell_type": "code",
   "execution_count": 106,
   "metadata": {},
   "outputs": [
    {
     "data": {
      "text/plain": [
       "(44, 32)"
      ]
     },
     "execution_count": 106,
     "metadata": {},
     "output_type": "execute_result"
    }
   ],
   "source": [
    "len(randfontein), len(westonaria)"
   ]
  },
  {
   "cell_type": "code",
   "execution_count": null,
   "metadata": {},
   "outputs": [],
   "source": [
    "for feat in items:\n",
    "    ward_num = feat['properties']['WardNumber']\n",
    "    if ward_num not in ward_nums:\n",
    "        items_no_duplicates.append(feat)\n",
    "        ward_nums.append(ward_num)\n",
    "    items_no_duplicates_sorted = sort_by_ward(items_no_duplicates)\n",
    "    print(\"There are {} wards in {}\".format(len(items_no_duplicates_sorted), name))\n",
    "    shape_dict_copy['features'] = items_no_duplicates_sorted\n",
    "    else:\n",
    "        shape_dict_copy['features'] = sort_by_ward(items)\n",
    "    out_file = open(\"{}_shp.json\".format(name), \"w\") \n",
    "    json.dump(shape_dict_copy, out_file) \n",
    "    out_file.close() "
   ]
  }
 ],
 "metadata": {
  "kernelspec": {
   "display_name": "honoursprojectenv",
   "language": "python",
   "name": "honoursprojectenv"
  },
  "language_info": {
   "codemirror_mode": {
    "name": "ipython",
    "version": 3
   },
   "file_extension": ".py",
   "mimetype": "text/x-python",
   "name": "python",
   "nbconvert_exporter": "python",
   "pygments_lexer": "ipython3",
   "version": "3.8.2"
  }
 },
 "nbformat": 4,
 "nbformat_minor": 4
}
